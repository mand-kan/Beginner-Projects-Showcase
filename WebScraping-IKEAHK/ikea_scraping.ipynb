{
 "cells": [
  {
   "source": [
    "## Web scraping for selected product list for IKEA\n",
    "* item name\n",
    "* item price\n",
    "* item category\n",
    "* product link\n",
    "* product image"
   ],
   "cell_type": "markdown",
   "metadata": {}
  },
  {
   "cell_type": "code",
   "execution_count": null,
   "metadata": {},
   "outputs": [],
   "source": [
    "from bs4 import BeautifulSoup\n",
    "import requests\n",
    "from selenium import webdriver\n",
    "from selenium.webdriver.common.keys import Keys\n",
    "from selenium.webdriver.support.ui import WebDriverWait\n",
    "import numpy as np\n",
    "import re\n",
    "import pandas as pd\n",
    "import requests\n",
    "import json\n",
    "import os\n",
    "from pathlib import Path"
   ]
  },
  {
   "source": [
    "## Scraping with beautiful soup & Selenium"
   ],
   "cell_type": "markdown",
   "metadata": {}
  },
  {
   "cell_type": "code",
   "execution_count": 3,
   "metadata": {},
   "outputs": [],
   "source": [
    "def getdetails(x):\n",
    "    df=pd.DataFrame()\n",
    "    for item in x.find_all(class_=\"card px-0 px-md-4\"):\n",
    "        item_name = (json.loads(item.find(class_='itemInfo').input['value'])['name'])\n",
    "        item_price = (json.loads(item.find(class_='itemInfo').input['value'])['price'])\n",
    "        item_cat = (json.loads(item.find(class_='itemInfo').input['value'])['category'])\n",
    "        item_url = (item.find(class_='productImg').img['src'])\n",
    "        prod_url = \"https://www.ikea.com.hk\"+item.find(class_='card-header').a['href']\n",
    "\n",
    "        df = df.append({\"item_name\":item_name, \"item_price\":item_price, \"item_cat\":item_cat,\"item_url\":item_url,\"prod_url\":prod_url},ignore_index=True) \n",
    "        return df\n",
    "\n",
    "def ikeascrape(productlist):\n",
    "    ikeadf = pd.DataFrame()\n",
    "    driver = webdriver.Chrome(executable_path='/Applications/chromedriver')\n",
    "    for product in productlist:\n",
    "        URL = \"https://www.ikea.com.hk/en/products/\"+product\n",
    "        driver.get(URL)\n",
    "        subhtml = driver.page_source\n",
    "        soup = BeautifulSoup(subhtml, \"html.parser\")\n",
    "\n",
    "        # try:\n",
    "        while True:\n",
    "            itemdf = getdetails(soup)\n",
    "            ikeadf = pd.concat([ikeadf,itemdf])\n",
    "            WebDriverWait(driver, 30)\n",
    "\n",
    "            nextlink = soup.find(class_='page-item next')\n",
    "\n",
    "            if nextlink:\n",
    "                newurl = nextlink.find('a',{'class':\"page-link\"})['data-sitemap-url']\n",
    "                driver.get(newurl)\n",
    "                newhtml = driver.page_source\n",
    "                soup = BeautifulSoup(newhtml, \"html.parser\")\n",
    "            else:\n",
    "                break\n",
    "    return ikeadf\n"
   ]
  },
  {
   "source": [
    "## Data Cleansing and save as required"
   ],
   "cell_type": "markdown",
   "metadata": {}
  },
  {
   "cell_type": "code",
   "execution_count": 9,
   "metadata": {},
   "outputs": [],
   "source": [
    "def cleansing(df):\n",
    "    #clean unwanted category\n",
    "    excludeli = ['0126 Footstools','0917 Baby highchairs',\"0951 Children's beds (8-14)\",\"1233 Chairpads\",\"0211 Living room storage\"]\n",
    "    dfclean = df[~df[\"item_cat\"].isin(excludeli)]\n",
    "\n",
    "    #drop duplicated images\n",
    "    dfclean.drop_duplicates(subset =\"item_url\",keep=False, inplace = True) \n",
    "\n",
    "\n",
    "    dfclean['item_cat'].replace(\n",
    "    {'0113 Sofa beds': 'sofas', \n",
    "    '0111 Sofas': 'sofas',\n",
    "    '0125 Armchairs': 'chairs',\n",
    "    '0521 Bed frames..': 'beds',\n",
    "    '0423 Wardrobes': 'dressers',\n",
    "     '0212 Living room cabinets':'dressers',\n",
    "    '0811 Dining tables': 'tables',\n",
    "    '0822 Dining stools': 'chairs',\n",
    "    '0821 Dining chairs and folding chairs': 'chairs',\n",
    "    '0823 Bar stools': 'chairs',\n",
    "    '1012 Table lamps': 'lamps',\n",
    "    '1011 Floor lamps': 'lamps',\n",
    "    '1016 Wall lamps and wall spotlights': 'lamps'},inplace=True\n",
    "    )\n",
    "    \n",
    "    dfclean.reset_index(drop=True,inplace=True)\n",
    "\n",
    "    return dfclean\n",
    "\n",
    "def savecleandf(df):\n",
    "    df.to_csv(\"ikeadata2/\"+'ikea_scrape.csv',index=False)\n",
    "\n",
    "def getscrapeimage(newdf):\n",
    "    for index, row in newdf.iterrows():\n",
    "        try:\n",
    "            os.makedirs(Path(\"ikeadata2/\"+str(row['item_cat'])))\n",
    "        except FileExistsError:\n",
    "            # directory already exists\n",
    "            pass\n",
    "\n",
    "        with open(\"ikeadata2/\"+str(row['item_cat'])+'/'+str(index)+'.jpg','wb') as f:\n",
    "            image = requests.get(row['item_url'])\n",
    "            f.write(image.content)"
   ]
  },
  {
   "cell_type": "code",
   "execution_count": 7,
   "metadata": {},
   "outputs": [],
   "source": [
    "#run with desired product list\n",
    "productlist = [\"sofas-and-armchairs/sofa-beds\",\"sofas-and-armchairs/sofas\",\"beds/single-beds\",\"beds/double-beds\",'wardrobes-and-chest-of-drawers/wardrobes','dining-tables-and-sets/dining-tables','dining-chairs','bedroom-lighting/table-lamps','bedroom-lighting/floor-lamps','bedroom-lighting/wall-lamps-and-wall-spotlights']\n",
    "\n",
    "\n",
    "idf = cleansing(ikeascrape(productlist))\n",
    "\n",
    "savecleandf(idf)\n",
    "getscrapeimage(idf.reset_index())"
   ]
  },
  {
   "cell_type": "code",
   "execution_count": 6,
   "metadata": {},
   "outputs": [
    {
     "output_type": "execute_result",
     "data": {
      "text/plain": [
       "  item_cat                                          item_name item_price  \\\n",
       "0    sofas  FLYBACKEN-three-seat sofa-bed, Vissle grey-703...       3290   \n",
       "0    sofas  BRÅTHULT-corner sofa-bed with storage, Vissle ...       3290   \n",
       "0    sofas  NYHAMN-sofa-bed with triple cushion, with foam...       2940   \n",
       "0    sofas  LYCKSELE LÖVÅS chair-bed Vallarum turquoise AP JP       1400   \n",
       "0    sofas     VIMLE sb3 with chaise longue/Gunnared mgrey AP      10690   \n",
       "\n",
       "                                            item_url  \\\n",
       "0  https://www.ikea.com.hk/dairyfarm/hk/images/91...   \n",
       "0  https://www.ikea.com.hk/dairyfarm/hk/images/24...   \n",
       "0  https://www.ikea.com.hk/dairyfarm/hk/images/09...   \n",
       "0  https://www.ikea.com.hk/dairyfarm/hk/images/04...   \n",
       "0  https://www.ikea.com.hk/dairyfarm/hk/images/86...   \n",
       "\n",
       "                                            prod_url  \n",
       "0  https://www.ikea.com.hk/en/products/sofas-and-...  \n",
       "0  https://www.ikea.com.hk/en/products/sofas-and-...  \n",
       "0  https://www.ikea.com.hk/en/products/sofas-and-...  \n",
       "0  https://www.ikea.com.hk/en/products/sofas-and-...  \n",
       "0  https://www.ikea.com.hk/en/products/sofas-and-...  "
      ],
      "text/html": "<div>\n<style scoped>\n    .dataframe tbody tr th:only-of-type {\n        vertical-align: middle;\n    }\n\n    .dataframe tbody tr th {\n        vertical-align: top;\n    }\n\n    .dataframe thead th {\n        text-align: right;\n    }\n</style>\n<table border=\"1\" class=\"dataframe\">\n  <thead>\n    <tr style=\"text-align: right;\">\n      <th></th>\n      <th>item_cat</th>\n      <th>item_name</th>\n      <th>item_price</th>\n      <th>item_url</th>\n      <th>prod_url</th>\n    </tr>\n  </thead>\n  <tbody>\n    <tr>\n      <th>0</th>\n      <td>sofas</td>\n      <td>FLYBACKEN-three-seat sofa-bed, Vissle grey-703...</td>\n      <td>3290</td>\n      <td>https://www.ikea.com.hk/dairyfarm/hk/images/91...</td>\n      <td>https://www.ikea.com.hk/en/products/sofas-and-...</td>\n    </tr>\n    <tr>\n      <th>0</th>\n      <td>sofas</td>\n      <td>BRÅTHULT-corner sofa-bed with storage, Vissle ...</td>\n      <td>3290</td>\n      <td>https://www.ikea.com.hk/dairyfarm/hk/images/24...</td>\n      <td>https://www.ikea.com.hk/en/products/sofas-and-...</td>\n    </tr>\n    <tr>\n      <th>0</th>\n      <td>sofas</td>\n      <td>NYHAMN-sofa-bed with triple cushion, with foam...</td>\n      <td>2940</td>\n      <td>https://www.ikea.com.hk/dairyfarm/hk/images/09...</td>\n      <td>https://www.ikea.com.hk/en/products/sofas-and-...</td>\n    </tr>\n    <tr>\n      <th>0</th>\n      <td>sofas</td>\n      <td>LYCKSELE LÖVÅS chair-bed Vallarum turquoise AP JP</td>\n      <td>1400</td>\n      <td>https://www.ikea.com.hk/dairyfarm/hk/images/04...</td>\n      <td>https://www.ikea.com.hk/en/products/sofas-and-...</td>\n    </tr>\n    <tr>\n      <th>0</th>\n      <td>sofas</td>\n      <td>VIMLE sb3 with chaise longue/Gunnared mgrey AP</td>\n      <td>10690</td>\n      <td>https://www.ikea.com.hk/dairyfarm/hk/images/86...</td>\n      <td>https://www.ikea.com.hk/en/products/sofas-and-...</td>\n    </tr>\n  </tbody>\n</table>\n</div>"
     },
     "metadata": {},
     "execution_count": 6
    }
   ],
   "source": [
    "idf.head()"
   ]
  }
 ],
 "metadata": {
  "kernelspec": {
   "display_name": "Python 3",
   "language": "python",
   "name": "python3"
  },
  "language_info": {
   "codemirror_mode": {
    "name": "ipython",
    "version": 3
   },
   "file_extension": ".py",
   "mimetype": "text/x-python",
   "name": "python",
   "nbconvert_exporter": "python",
   "pygments_lexer": "ipython3",
   "version": "3.7.4-final"
  }
 },
 "nbformat": 4,
 "nbformat_minor": 2
}