{
 "metadata": {
  "language_info": {
   "codemirror_mode": {
    "name": "ipython",
    "version": 3
   },
   "file_extension": ".py",
   "mimetype": "text/x-python",
   "name": "python",
   "nbconvert_exporter": "python",
   "pygments_lexer": "ipython3",
   "version": "3.7.4-final"
  },
  "orig_nbformat": 2,
  "kernelspec": {
   "name": "python3",
   "display_name": "Python 3"
  }
 },
 "nbformat": 4,
 "nbformat_minor": 2,
 "cells": [
  {
   "cell_type": "markdown",
   "metadata": {},
   "source": [
    "Given a string, create a function that splits the string into pairs of two characters. Put the pairs inside a list then return the list. If a character is missing in a pair, use the character '?' to replace the missing character.\n",
    "\n"
   ]
  },
  {
   "cell_type": "code",
   "execution_count": 30,
   "metadata": {
    "tags": []
   },
   "outputs": [
    {
     "output_type": "execute_result",
     "data": {
      "text/plain": "['bo', 'ok', 's?', 'bo', 'ok', 's?']"
     },
     "metadata": {},
     "execution_count": 30
    }
   ],
   "source": [
    "def getpair(s):\n",
    "    li = []\n",
    "\n",
    "    if len(s)%2!=0:\n",
    "        s=s+'?'\n",
    "    for i,letter in enumerate(s):\n",
    "        if letter.isalpha() == False:\n",
    "            s=s.replace(letter,'?')\n",
    "        if i%2!=0:\n",
    "            li.append(s[i-1]+s[i])\n",
    "    return li\n",
    "        \n",
    "getpair('books books')"
   ]
  },
  {
   "cell_type": "code",
   "execution_count": null,
   "metadata": {},
   "outputs": [],
   "source": []
  }
 ]
}