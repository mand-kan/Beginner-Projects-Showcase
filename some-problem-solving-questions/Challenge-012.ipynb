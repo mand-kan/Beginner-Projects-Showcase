{
 "metadata": {
  "language_info": {
   "codemirror_mode": {
    "name": "ipython",
    "version": 3
   },
   "file_extension": ".py",
   "mimetype": "text/x-python",
   "name": "python",
   "nbconvert_exporter": "python",
   "pygments_lexer": "ipython3",
   "version": "3.7.4-final"
  },
  "orig_nbformat": 2,
  "kernelspec": {
   "name": "python3",
   "display_name": "Python 3"
  }
 },
 "nbformat": 4,
 "nbformat_minor": 2,
 "cells": [
  {
   "cell_type": "markdown",
   "metadata": {},
   "source": [
    "Given a list of 5 floats, return a tuple of the average of the middle 3 floats and the lowest float of that list.\n",
    "\n",
    "\n",
    "\n",
    "Example:\n",
    "\n",
    "Input:\n",
    "\n",
    "[6.4, 11.4, 7.6, 10.5, 8.1]\n",
    "\n",
    "Returns:\n",
    "\n",
    " (9.83, 6.4), 9.83 (rounded off to nearest two decimal places) is the average of 11.4, 7.6 and 10.5 and 6.4 is the lowest float of the list."
   ]
  },
  {
   "cell_type": "code",
   "execution_count": 4,
   "metadata": {},
   "outputs": [
    {
     "output_type": "execute_result",
     "data": {
      "text/plain": "(9.83, 6.4)"
     },
     "metadata": {},
     "execution_count": 4
    }
   ],
   "source": [
    "from statistics import mean\n",
    "li = [6.4, 11.4, 7.6, 10.5, 8.1]\n",
    "\n",
    "round(mean(li[1:4]),2),min(li)"
   ]
  },
  {
   "cell_type": "code",
   "execution_count": null,
   "metadata": {},
   "outputs": [],
   "source": []
  }
 ]
}