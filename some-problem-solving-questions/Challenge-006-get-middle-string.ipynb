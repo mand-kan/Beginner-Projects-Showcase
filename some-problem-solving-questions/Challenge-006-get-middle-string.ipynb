{
 "metadata": {
  "language_info": {
   "codemirror_mode": {
    "name": "ipython",
    "version": 3
   },
   "file_extension": ".py",
   "mimetype": "text/x-python",
   "name": "python",
   "nbconvert_exporter": "python",
   "pygments_lexer": "ipython3",
   "version": "3.7.3-final"
  },
  "orig_nbformat": 2,
  "kernelspec": {
   "name": "python37364bit55775df660d549b0be4d5edc9f9adf65",
   "display_name": "Python 3.7.3 64-bit"
  }
 },
 "nbformat": 4,
 "nbformat_minor": 2,
 "cells": [
  {
   "cell_type": "markdown",
   "metadata": {},
   "source": [
    "\n",
    "Create a function that given a string, it returns the middle character of the string. If the length of the string is even, return the two middle characters of the string.\n",
    "\n",
    "\n",
    "\n"
   ]
  },
  {
   "cell_type": "code",
   "execution_count": 21,
   "metadata": {
    "tags": []
   },
   "outputs": [
    {
     "output_type": "stream",
     "name": "stdout",
     "text": "l\n"
    }
   ],
   "source": [
    "def middle(string):\n",
    "\n",
    "    if len(string)%2==0:\n",
    "        middle_string = string[int(len(string)/2-1):int(len(string)/2+1)]\n",
    "    else:\n",
    "        middle_string = string[int(len(string)/2)]\n",
    "    return middle_string\n",
    "\n",
    "middle(input('Print the middle of a string: '))\n"
   ]
  },
  {
   "cell_type": "code",
   "execution_count": null,
   "metadata": {},
   "outputs": [],
   "source": []
  }
 ]
}