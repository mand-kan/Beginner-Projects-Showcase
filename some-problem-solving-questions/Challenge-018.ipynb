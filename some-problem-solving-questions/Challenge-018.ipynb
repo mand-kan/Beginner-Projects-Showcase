{
 "metadata": {
  "language_info": {
   "codemirror_mode": {
    "name": "ipython",
    "version": 3
   },
   "file_extension": ".py",
   "mimetype": "text/x-python",
   "name": "python",
   "nbconvert_exporter": "python",
   "pygments_lexer": "ipython3",
   "version": "3.7.4-final"
  },
  "orig_nbformat": 2,
  "kernelspec": {
   "name": "python3",
   "display_name": "Python 3"
  }
 },
 "nbformat": 4,
 "nbformat_minor": 2,
 "cells": [
  {
   "cell_type": "markdown",
   "metadata": {},
   "source": [
    "Given an integer greater than 0, return a list of all possible palindromes of the integer.\n",
    "\n",
    "\n",
    "\n",
    "Example:\n",
    "\n",
    "Input: \n",
    "\n",
    "34322122\n",
    "\n",
    "Output:\n",
    "\n",
    "[22, 212, 343, 22122]\n",
    "\n"
   ]
  },
  {
   "cell_type": "code",
   "execution_count": 45,
   "metadata": {
    "tags": []
   },
   "outputs": [
    {
     "output_type": "stream",
     "name": "stdout",
     "text": "['343', '212', '22122', '22']\n"
    }
   ],
   "source": [
    "string = '34322122'\n",
    "li = []\n",
    "for i in range(len(string)+1):\n",
    "    for j in range(2,(len(string)+1)):\n",
    "        if (i-j)>=0:\n",
    "            if string[(i-j):i][::-1]==string[(i-j):i]:\n",
    "                li.append(string[(i-j):i])\n",
    "\n",
    "print(list(set(li)))"
   ]
  },
  {
   "cell_type": "code",
   "execution_count": null,
   "metadata": {},
   "outputs": [],
   "source": []
  }
 ]
}