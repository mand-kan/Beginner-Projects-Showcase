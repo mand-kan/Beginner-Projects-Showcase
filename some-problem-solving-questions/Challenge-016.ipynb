{
 "metadata": {
  "language_info": {
   "codemirror_mode": {
    "name": "ipython",
    "version": 3
   },
   "file_extension": ".py",
   "mimetype": "text/x-python",
   "name": "python",
   "nbconvert_exporter": "python",
   "pygments_lexer": "ipython3",
   "version": "3.7.4-final"
  },
  "orig_nbformat": 2,
  "kernelspec": {
   "name": "python_defaultSpec_1600602248303",
   "display_name": "Python 3.7.4 64-bit ('base': conda)"
  }
 },
 "nbformat": 4,
 "nbformat_minor": 2,
 "cells": [
  {
   "source": [
    "Given an integer n, find all the integers that is the multiple of 3 from 0 to n. Return the sum of all these integers.\n",
    "\n",
    "\n",
    "\n",
    "Example:\n",
    "\n",
    "Input: \n",
    "\n",
    "10\n",
    "\n",
    "Multiples of 3 from 0 to 10:\n",
    "\n",
    "3, 6, 9\n",
    "\n",
    "Return sum of these integers:\n",
    "\n",
    "18"
   ],
   "cell_type": "markdown",
   "metadata": {}
  },
  {
   "cell_type": "code",
   "execution_count": 1,
   "metadata": {},
   "outputs": [
    {
     "output_type": "execute_result",
     "data": {
      "text/plain": "18"
     },
     "metadata": {},
     "execution_count": 1
    }
   ],
   "source": [
    "def fun(n):\n",
    "    sumn = 0\n",
    "    for i in range(n+1):\n",
    "        if i%3==0:\n",
    "            sumn+= i\n",
    "    return sumn\n",
    "fun(10)"
   ]
  },
  {
   "cell_type": "code",
   "execution_count": null,
   "metadata": {},
   "outputs": [],
   "source": []
  }
 ]
}