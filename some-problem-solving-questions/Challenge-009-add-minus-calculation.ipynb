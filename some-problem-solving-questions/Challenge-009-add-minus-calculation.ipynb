{
 "metadata": {
  "language_info": {
   "codemirror_mode": {
    "name": "ipython",
    "version": 3
   },
   "file_extension": ".py",
   "mimetype": "text/x-python",
   "name": "python",
   "nbconvert_exporter": "python",
   "pygments_lexer": "ipython3",
   "version": "3.7.3-final"
  },
  "orig_nbformat": 2,
  "kernelspec": {
   "name": "python37364bit55775df660d549b0be4d5edc9f9adf65",
   "display_name": "Python 3.7.3 64-bit"
  }
 },
 "nbformat": 4,
 "nbformat_minor": 2,
 "cells": [
  {
   "cell_type": "markdown",
   "metadata": {},
   "source": [
    "Given a string, add or subtract numbers and return the answer.\n",
    "\n",
    "\n",
    "\n",
    "Example:\n",
    "\n",
    "Input: 1plus2plus3minus4\n",
    "\n",
    "Output: 2\n",
    "\n",
    "\n",
    "\n",
    "Input: 2minus6plus4plus7\n",
    "\n",
    "Output: 7\n",
    "\n"
   ]
  },
  {
   "cell_type": "code",
   "execution_count": 13,
   "metadata": {
    "tags": []
   },
   "outputs": [
    {
     "output_type": "execute_result",
     "data": {
      "text/plain": "7"
     },
     "metadata": {},
     "execution_count": 13
    }
   ],
   "source": [
    "\n",
    "\n",
    "i = '2minus6plus4plus7'\n",
    "i = i.replace('plus',',')\n",
    "i = i.replace('minus',',-')\n",
    "sum([int(i) for i in i.split(',')])\n",
    "\n",
    "# print(sum(map(int,(i.split(',')))))\n",
    "\n"
   ]
  },
  {
   "cell_type": "code",
   "execution_count": 61,
   "metadata": {
    "tags": []
   },
   "outputs": [
    {
     "output_type": "execute_result",
     "data": {
      "text/plain": "(['15', '3', '3', '4', '2'], ['*', '+', '-', '/', ''])"
     },
     "metadata": {},
     "execution_count": 61
    }
   ],
   "source": [
    "\n",
    "import re\n",
    "i=\"15*3+3-4/2\"\n",
    "a=re.split((r'\\+|\\-|\\*|\\/'),i)\n",
    "b=re.split(('[0-9]'),i)\n",
    "for i in b:\n",
    "    if i == '':\n",
    "        b.remove(i)\n",
    "a,b\n",
    "# OPERATORS = {'+': 'add', '-': 'sub', '*': 'mul', '/': 'div'}\n",
    "\n",
    "# def apply_operator(a, op, b):\n",
    "\n",
    "#     method = '__%s__' % OPERATORS[op]\n",
    "#     return getattr(b, method)(a)\n",
    "\n",
    "# apply_operator(1, '+', 2)\n",
    "\n"
   ]
  },
  {
   "cell_type": "code",
   "execution_count": null,
   "metadata": {},
   "outputs": [],
   "source": []
  }
 ]
}