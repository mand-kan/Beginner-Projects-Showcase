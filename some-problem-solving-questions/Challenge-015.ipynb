{
 "metadata": {
  "language_info": {
   "codemirror_mode": {
    "name": "ipython",
    "version": 3
   },
   "file_extension": ".py",
   "mimetype": "text/x-python",
   "name": "python",
   "nbconvert_exporter": "python",
   "pygments_lexer": "ipython3",
   "version": "3.7.4-final"
  },
  "orig_nbformat": 2,
  "kernelspec": {
   "name": "python_defaultSpec_1600602020456",
   "display_name": "Python 3.7.4 64-bit ('base': conda)"
  }
 },
 "nbformat": 4,
 "nbformat_minor": 2,
 "cells": [
  {
   "source": [
    "Given two lists of any data type, return a list that combines the two lists by alternating the elements passed. The input lists can be of different lengths.\n",
    "\n",
    "\n",
    "\n",
    "Example 1:\n",
    "\n",
    "Input lists: \n",
    "\n",
    "[1, 2, 3, 4, 5]\n",
    "\n",
    "['a', 'b', 'c', 'd', 'e']\n",
    "\n",
    "Returns:\n",
    "\n",
    "[1, 'a', 2, b', 3, 'c', 4, 'd', 5, 'e']\n",
    "\n",
    "\n",
    "\n",
    "Example 2:\n",
    "\n",
    "Input lists:\n",
    "\n",
    "[1, 2, 3]\n",
    "\n",
    "['a', 'b', 'c', 'd', 'e']\n",
    "\n",
    "Returns:\n",
    "\n",
    "[1, 'a', 2, 'b', 3, 'c', 'd', 'e']\n",
    "\n",
    "\n",
    "\n",
    "Example 3:\n",
    "\n",
    "Input lists:\n",
    "\n",
    "[1, 2, 3, 4, 5]\n",
    "\n",
    "['a', 'b']\n",
    "\n",
    "Returns:\n",
    "\n",
    "[1, 'a', 2, 'b', 3, 4, 5]"
   ],
   "cell_type": "markdown",
   "metadata": {}
  },
  {
   "cell_type": "code",
   "execution_count": 2,
   "metadata": {
    "tags": []
   },
   "outputs": [
    {
     "output_type": "execute_result",
     "data": {
      "text/plain": "[1, 'a', 2, 'b', 3, 4, 5]"
     },
     "metadata": {},
     "execution_count": 2
    }
   ],
   "source": [
    "def fun(l1,l2):\n",
    "    li = []\n",
    "    maxlen = max(len(l1),len(l2))\n",
    "    for i in range(maxlen):\n",
    "        try:\n",
    "            li.append(l1[i])\n",
    "        except:\n",
    "            continue\n",
    "        try:\n",
    "            li.append(l2[i])\n",
    "        except:\n",
    "            continue\n",
    "    return li\n",
    "fun([1,2,3,4,5],['a','b'])"
   ]
  },
  {
   "cell_type": "code",
   "execution_count": null,
   "metadata": {},
   "outputs": [],
   "source": []
  }
 ]
}