{
 "metadata": {
  "language_info": {
   "codemirror_mode": {
    "name": "ipython",
    "version": 3
   },
   "file_extension": ".py",
   "mimetype": "text/x-python",
   "name": "python",
   "nbconvert_exporter": "python",
   "pygments_lexer": "ipython3",
   "version": "3.7.4-final"
  },
  "orig_nbformat": 2,
  "kernelspec": {
   "name": "python3",
   "display_name": "Python 3"
  }
 },
 "nbformat": 4,
 "nbformat_minor": 2,
 "cells": [
  {
   "cell_type": "code",
   "execution_count": null,
   "metadata": {},
   "outputs": [],
   "source": [
    "Given a string, return the character with the most value. The value of a character is the difference between the index of its first occurrence and the index of its last occurrence. If there is a tie, return the character that goes first alphabetically.\n",
    "\n",
    "\n",
    "\n",
    "Example:\n",
    "\n",
    "Input: 'abcdbcd'\n",
    "\n",
    "Output: 'b', since difference between first index and last index = 4 - 1 = 3, which ties with the values of c and d but since b goes first alphabetically, that's the most valuable character.\n",
    "\n"
   ]
  },
  {
   "cell_type": "code",
   "execution_count": 35,
   "metadata": {
    "tags": []
   },
   "outputs": [
    {
     "output_type": "stream",
     "name": "stdout",
     "text": "b\n"
    }
   ],
   "source": [
    "import re\n",
    "def getvaluechar(input):\n",
    "    li=[]\n",
    "    newdict={}\n",
    "    for i in set(input):\n",
    "        li.append((i,[x.span()[0] for x in re.finditer(i,input)]))\n",
    "    for i in li:\n",
    "        newdict[i[0]]=i[1][-1]-i[1][0]\n",
    "\n",
    "    result = [k for k,v in newdict.items() if v==max(newdict.values())]\n",
    "    return sorted(result)[0]\n",
    "print(getvaluechar('abcdbcd'))"
   ]
  },
  {
   "cell_type": "code",
   "execution_count": null,
   "metadata": {},
   "outputs": [],
   "source": []
  }
 ]
}