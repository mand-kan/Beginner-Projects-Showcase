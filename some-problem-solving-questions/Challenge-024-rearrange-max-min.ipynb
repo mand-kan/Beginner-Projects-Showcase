{
 "metadata": {
  "language_info": {
   "codemirror_mode": {
    "name": "ipython",
    "version": 3
   },
   "file_extension": ".py",
   "mimetype": "text/x-python",
   "name": "python",
   "nbconvert_exporter": "python",
   "pygments_lexer": "ipython3",
   "version": 3
  },
  "orig_nbformat": 2
 },
 "nbformat": 4,
 "nbformat_minor": 2,
 "cells": [
  {
   "cell_type": "code",
   "execution_count": null,
   "metadata": {},
   "outputs": [],
   "source": [
    "Given a number, return the difference between the maximum and minimum numbers that can be formed when the digits are rearranged."
   ]
  },
  {
   "cell_type": "code",
   "execution_count": null,
   "metadata": {},
   "outputs": [],
   "source": [
    "def rearr(x):\n",
    "    min = ''.join(sorted([i for i in str(x)]))\n",
    "    max = ''.join(sorted([i for i in str(x)],reverse = True))\n",
    "\n",
    "    return (int(max)-int(min))\n",
    "\n",
    "rearr(98754)"
   ]
  }
 ]
}