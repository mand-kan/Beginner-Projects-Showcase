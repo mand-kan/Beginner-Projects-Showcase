{
 "metadata": {
  "language_info": {
   "codemirror_mode": {
    "name": "ipython",
    "version": 3
   },
   "file_extension": ".py",
   "mimetype": "text/x-python",
   "name": "python",
   "nbconvert_exporter": "python",
   "pygments_lexer": "ipython3",
   "version": "3.7.4-final"
  },
  "orig_nbformat": 2,
  "kernelspec": {
   "name": "Python 3.7.4 64-bit ('base': conda)",
   "display_name": "Python 3.7.4 64-bit ('base': conda)",
   "metadata": {
    "interpreter": {
     "hash": "0fce32da4737002e22a60a348198876133fea3deab1bc23f10ef0cff463beb23"
    }
   }
  }
 },
 "nbformat": 4,
 "nbformat_minor": 2,
 "cells": [
  {
   "source": [
    "In this challenge, you have to establish if a positive integer is a Modest number, accordingly to the following algorithm:\n",
    "\n",
    "Divide the number into two left and right partitions. For each combination of left and right parts, you have to check if a condition is true: the remainder of the number divided by the right part is equal to the left part. If at least a combination of two parts satisfies the above condition, the number is Modest, otherwise, it's not. Given an integer num, implement a function that returns True if num is a Modest number, or False if it's not.\n",
    "\n",
    "Example #1\n",
    "\n",
    "is_modest(2036) ➞ True\n",
    "\n",
    "Combination 1: Left = 2 | Right = 036 = 36 (Leading zeros are not considered) Number (2036) % Right (36) = 20 != Left (2)\n",
    "\n",
    "Combination 2: Left = 20 | Right = 36 Number (2036) % Right (36) = 20 = Left (20)\n",
    "\n",
    "At least a combination satisfies the condition\n",
    "It's a Modest number\n",
    "Example #2\n",
    "\n",
    "is_modest(3412) ➞ False\n",
    "\n",
    "Combination 1: Left = 3 | Right = 412 3412 % 412 = 116 != Left\n",
    "\n",
    "Combination 2: Left = 34 | Right = 12 3412 % 12 = 4 != Left\n",
    "\n",
    "Combination 3: Left = 341 | Right = 2 3412 % 2 = 0 != Left\n",
    "\n",
    "It's not a Modest number\n",
    "Notice how left and right parts are made:\n",
    "They are not permutations or combinations...\n",
    "...but partitions of consecutive digits.\n",
    "Example #3\n",
    "\n",
    "is_modest(21333) ➞ True\n",
    "\n",
    "Combination 1: Left = 2 | Right = 1333 21333 % 1333 = 5 != Left\n",
    "\n",
    "Combination 2: Left = 21 | Right = 333 21333 % 333 = 21 = Left\n",
    "\n",
    "At least a combination satisfies the condition\n",
    "It's a Modest number\n",
    "Example #4\n",
    "\n",
    "is_modest(8) ➞ False\n",
    "\n",
    "An integer with less than two digits can't be partitioned.\n"
   ],
   "cell_type": "markdown",
   "metadata": {}
  },
  {
   "cell_type": "code",
   "execution_count": 65,
   "metadata": {},
   "outputs": [
    {
     "output_type": "stream",
     "name": "stdout",
     "text": [
      "0 2 13\n1 21 3\n2 213 \n"
     ]
    },
    {
     "output_type": "execute_result",
     "data": {
      "text/plain": [
       "False"
      ]
     },
     "metadata": {},
     "execution_count": 65
    }
   ],
   "source": [
    "def is_modest(num):\n",
    "    for i in range(len(str(num))):\n",
    "        a=str(num)[0:i+1]\n",
    "        b=str(num)[i+1:]\n",
    "        try:\n",
    "            if int(a) == num%int(b):\n",
    "                \n",
    "                return True\n",
    "                break\n",
    "            else:\n",
    "                continue\n",
    "        except:\n",
    "            return False\n",
    "\n",
    "is_modest(213)\n"
   ]
  },
  {
   "cell_type": "code",
   "execution_count": 69,
   "metadata": {},
   "outputs": [
    {
     "output_type": "stream",
     "name": "stdout",
     "text": [
      "\n"
     ]
    }
   ],
   "source": [
    "a=str(213)[0:2+1]\n",
    "b=str(213)[3::]\n",
    "print(b)"
   ]
  },
  {
   "cell_type": "code",
   "execution_count": 54,
   "metadata": {},
   "outputs": [
    {
     "output_type": "stream",
     "name": "stdout",
     "text": [
      "2 3\n"
     ]
    }
   ],
   "source": []
  },
  {
   "cell_type": "code",
   "execution_count": null,
   "metadata": {},
   "outputs": [],
   "source": []
  }
 ]
}