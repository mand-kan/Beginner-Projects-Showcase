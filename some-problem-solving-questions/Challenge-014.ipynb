{
 "metadata": {
  "language_info": {
   "codemirror_mode": {
    "name": "ipython",
    "version": 3
   },
   "file_extension": ".py",
   "mimetype": "text/x-python",
   "name": "python",
   "nbconvert_exporter": "python",
   "pygments_lexer": "ipython3",
   "version": "3.7.4-final"
  },
  "orig_nbformat": 2,
  "kernelspec": {
   "name": "python_defaultSpec_1600598967612",
   "display_name": "Python 3.7.4 64-bit ('base': conda)"
  }
 },
 "nbformat": 4,
 "nbformat_minor": 2,
 "cells": [
  {
   "source": [
    "Given a list of integers, split the list into two, put the arrays on top of each other, then add them together. Return the finished list.\n",
    "\n",
    "\n",
    "\n",
    "Example:\n",
    "\n",
    "Input:\n",
    "\n",
    "[1, 2, 3, 4, 5, 6, 7]\n",
    "\n",
    "\n",
    "\n",
    "Putting on top:\n",
    "\n",
    "[1, 2, 3]\n",
    "\n",
    "[4, 5, 6, 7]\n",
    "\n",
    "\n",
    "\n",
    "Adding up process:\n",
    "\n",
    "[1, 2, 3]\n",
    "\n",
    "+\n",
    "\n",
    "[4, 5, 6, 7]\n",
    "\n",
    "------------\n",
    "\n",
    "[5, 7, 9, 7]\n",
    "\n",
    "\n",
    "\n",
    "Returns:\n",
    "\n",
    "[5, 7, 9, 7]\n",
    "\n"
   ],
   "cell_type": "markdown",
   "metadata": {}
  },
  {
   "cell_type": "code",
   "execution_count": 39,
   "metadata": {
    "tags": []
   },
   "outputs": [
    {
     "output_type": "execute_result",
     "data": {
      "text/plain": "[5, 7, 9, 7]"
     },
     "metadata": {},
     "execution_count": 39
    }
   ],
   "source": [
    "import random\n",
    "def splitli(l):\n",
    "    x = random.randrange(1,len(l))\n",
    "    l1 = l[0:x]\n",
    "    l2 = l[x::]\n",
    "    maxlen = max(len(l1),len(l2))\n",
    "    li= []\n",
    "    for i in range(maxlen):\n",
    "        try:\n",
    "            get = l1[i]\n",
    "        except:\n",
    "            l1.append(0)\n",
    "        try:\n",
    "            get = l2[i]\n",
    "        except:\n",
    "            l2.append(0)  \n",
    "        li.append(l1[i]+l2[i])\n",
    "    return li\n",
    "\n",
    "\n",
    "splitli([1,2,3,4,5,6,7])"
   ]
  },
  {
   "cell_type": "code",
   "execution_count": null,
   "metadata": {},
   "outputs": [],
   "source": []
  },
  {
   "cell_type": "code",
   "execution_count": null,
   "metadata": {},
   "outputs": [],
   "source": []
  }
 ]
}