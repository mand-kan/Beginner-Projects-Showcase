{
 "metadata": {
  "language_info": {
   "codemirror_mode": {
    "name": "ipython",
    "version": 3
   },
   "file_extension": ".py",
   "mimetype": "text/x-python",
   "name": "python",
   "nbconvert_exporter": "python",
   "pygments_lexer": "ipython3",
   "version": "3.7.4-final"
  },
  "orig_nbformat": 2,
  "kernelspec": {
   "name": "python_defaultSpec_1600767741050",
   "display_name": "Python 3.7.4 64-bit ('base': conda)"
  }
 },
 "nbformat": 4,
 "nbformat_minor": 2,
 "cells": [
  {
   "source": [
    "Given a string of decimal digits, output an integer of its binary representation like below:\n",
    "\n",
    "\n",
    "\n",
    "Example:\n",
    "\n",
    "Input: \"2973\"\n",
    "\n",
    "\"2\" => 10\n",
    "\n",
    "\"9\" => 1001\n",
    "\n",
    "\"7\" => 111\n",
    "\n",
    "\"3\" => 11\n",
    "\n",
    "Therefore output is 10100111111, because of 10+1001+111+11."
   ],
   "cell_type": "markdown",
   "metadata": {}
  },
  {
   "cell_type": "code",
   "execution_count": 10,
   "metadata": {},
   "outputs": [
    {
     "output_type": "execute_result",
     "data": {
      "text/plain": "'10100111111'"
     },
     "metadata": {},
     "execution_count": 10
    }
   ],
   "source": [
    "def bi(s):\n",
    "    sumb=''\n",
    "    for i in s:\n",
    "        sumb=sumb+bin(int(i))[2:]\n",
    "    return sumb\n",
    "\n",
    "bi('2973')\n"
   ]
  },
  {
   "cell_type": "code",
   "execution_count": 7,
   "metadata": {},
   "outputs": [
    {
     "output_type": "execute_result",
     "data": {
      "text/plain": "'0b1001'"
     },
     "metadata": {},
     "execution_count": 7
    }
   ],
   "source": [
    "bin(9)"
   ]
  },
  {
   "cell_type": "code",
   "execution_count": null,
   "metadata": {},
   "outputs": [],
   "source": []
  }
 ]
}