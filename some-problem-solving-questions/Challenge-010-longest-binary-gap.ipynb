{
 "metadata": {
  "language_info": {
   "codemirror_mode": {
    "name": "ipython",
    "version": 3
   },
   "file_extension": ".py",
   "mimetype": "text/x-python",
   "name": "python",
   "nbconvert_exporter": "python",
   "pygments_lexer": "ipython3",
   "version": "3.7.4-final"
  },
  "orig_nbformat": 2,
  "kernelspec": {
   "name": "python3",
   "display_name": "Python 3"
  }
 },
 "nbformat": 4,
 "nbformat_minor": 2,
 "cells": [
  {
   "cell_type": "code",
   "execution_count": null,
   "metadata": {},
   "outputs": [],
   "source": [
    "Given an integer, create a function that finds and returns the length of the longest binary gap of the binary representation of that integer. A binary gap is the sequence of consecutive zeros in between ones in a binary representation. Reference for binary representation can be found here: https://www.rapidtables.com/convert/number/decimal-to-binary.html\n",
    "\n",
    "\n",
    "\n",
    "Example:\n",
    "\n",
    "Input: 9, which has binary representation 1001\n",
    "\n",
    "Returns: 2\n",
    "Input: 529, which has binary representation 1000010001\n",
    "\n",
    "Returns: 4\n",
    "Input: 20, which has binary representation 10100\n",
    "\n",
    "Returns: 1\n",
    "\n",
    "Input: 15, which has binary representation 1111\n",
    "Returns: 0"
   ]
  },
  {
   "cell_type": "code",
   "execution_count": 27,
   "metadata": {
    "tags": []
   },
   "outputs": [
    {
     "output_type": "stream",
     "name": "stdout",
     "text": "0 4\n4 3\n"
    },
    {
     "output_type": "execute_result",
     "data": {
      "text/plain": "4"
     },
     "metadata": {},
     "execution_count": 27
    }
   ],
   "source": [
    "import re\n",
    "\n",
    "def findgap(x):\n",
    "    result = 0\n",
    "    check =bin(x)[2:]\n",
    "    lis = [i.span() for i in re.finditer('1',check)]\n",
    "    for item in range(1,len(lis)):\n",
    "        resultcheck = lis[item][0]-lis[item-1][0]-1\n",
    "        if result<resultcheck:\n",
    "            result = resultcheck\n",
    "    return result\n",
    "\n",
    "findgap(529)"
   ]
  },
  {
   "cell_type": "code",
   "execution_count": null,
   "metadata": {},
   "outputs": [],
   "source": []
  }
 ]
}