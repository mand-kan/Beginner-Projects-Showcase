{
 "metadata": {
  "language_info": {
   "codemirror_mode": {
    "name": "ipython",
    "version": 3
   },
   "file_extension": ".py",
   "mimetype": "text/x-python",
   "name": "python",
   "nbconvert_exporter": "python",
   "pygments_lexer": "ipython3",
   "version": "3.7.4-final"
  },
  "orig_nbformat": 2,
  "kernelspec": {
   "name": "python_defaultSpec_1600761908473",
   "display_name": "Python 3.7.4 64-bit ('base': conda)"
  }
 },
 "nbformat": 4,
 "nbformat_minor": 2,
 "cells": [
  {
   "source": [
    "Given a list of mixed integers of different representations, add up the non-string integers and subtract this from the total of string integers.\n",
    "\n",
    "\n",
    "\n",
    "Example:\n",
    "\n",
    "Input:\n",
    "\n",
    "[1, '2', 3, '4', 5]\n",
    "\n",
    "Output:\n",
    "\n",
    "-3, because:\n",
    "\n",
    "total of non-string integers = 1+3+5 = 9\n",
    "\n",
    "total of string integers = 2+4 = 6\n",
    "\n",
    "total of string integers - total of non-string integers = -3 "
   ],
   "cell_type": "markdown",
   "metadata": {}
  },
  {
   "cell_type": "code",
   "execution_count": 7,
   "metadata": {
    "tags": []
   },
   "outputs": [
    {
     "output_type": "execute_result",
     "data": {
      "text/plain": "-3"
     },
     "metadata": {},
     "execution_count": 7
    }
   ],
   "source": [
    "def strnum(li):\n",
    "    strsum=0\n",
    "    nstrsum=0\n",
    "    for i in li:\n",
    "        if isinstance(i,int):\n",
    "            nstrsum+=i\n",
    "        if isinstance(i,str):\n",
    "            strsum+=int(i)\n",
    "    return strsum-nstrsum\n",
    "strnum([1, '2', 3, '4', 5])"
   ]
  },
  {
   "cell_type": "code",
   "execution_count": null,
   "metadata": {},
   "outputs": [],
   "source": []
  }
 ]
}