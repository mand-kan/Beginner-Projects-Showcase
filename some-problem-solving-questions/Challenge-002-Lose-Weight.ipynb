{
 "metadata": {
  "language_info": {
   "codemirror_mode": {
    "name": "ipython",
    "version": 3
   },
   "file_extension": ".py",
   "mimetype": "text/x-python",
   "name": "python",
   "nbconvert_exporter": "python",
   "pygments_lexer": "ipython3",
   "version": 3
  },
  "orig_nbformat": 2
 },
 "nbformat": 4,
 "nbformat_minor": 2,
 "cells": [
  {
   "cell_type": "markdown",
   "metadata": {},
   "source": [
    "Create a function that estimates the weight loss of a person using a certain weight loss program with their gender, current weight and how many weeks they plan to do the program as input. If the person follows the weight loss program, men can lose 1.5% of their body weight per week while women can lose 1.2% of their body weight per week. \n",
    "\n",
    "\n",
    "\n",
    "The possible inputs are:\n",
    "\n",
    "Gender: 'M' for Male, 'F' for Female\n",
    "\n",
    "Current weight: integer above 0\n",
    "\n",
    "Number of weeks: integer above 0\n",
    "\n",
    "\n",
    "\n",
    "Return the estimated weight after the specified number of weeks.\n",
    "\n"
   ]
  },
  {
   "cell_type": "code",
   "execution_count": null,
   "metadata": {},
   "outputs": [],
   "source": [
    "def lose_weight(gender, weight, duration):\n",
    "    if gender.upper() == 'M':         weight = int(weight)*(1-0.0015)**int(duration)         return weight     elif gender.upper() == 'F':         weight = int(weight)*(1-0.0012)**int(duration)         return weight     else:         return \"Wrong input!\"\n",
    "g = input(\"Input your gender(M/F):\") w = input(\"Input your weight: \") d = input(\"Input the number of weeks: \")\n",
    "print(lose_weight(g,w,d))"
   ]
  }
 ]
}