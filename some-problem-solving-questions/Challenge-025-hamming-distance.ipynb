{
 "metadata": {
  "language_info": {
   "codemirror_mode": {
    "name": "ipython",
    "version": 3
   },
   "file_extension": ".py",
   "mimetype": "text/x-python",
   "name": "python",
   "nbconvert_exporter": "python",
   "pygments_lexer": "ipython3",
   "version": 3
  },
  "orig_nbformat": 2
 },
 "nbformat": 4,
 "nbformat_minor": 2,
 "cells": [
  {
   "source": [
    "An anagram is a word, x, formed by rearranging the letters that make up another word, y, and using up all the letters in y at the same frequency. For example, \"dear\" is an anagram of \"read\" and \"plead\" is an anagram of \"paled\".\n",
    "\n",
    "The Hamming distance between two strings is the number of positions at which they differ. Hamming distances can only be calculated for strings of equal length.\n",
    "\n",
    "s1 = \"eleven\"\n",
    "\n",
    "s2 = \"twelve\"\n",
    "\n",
    "They only have the third position (index 2) in common, giving them a Hamming distance of 5.\n",
    "\n",
    "As anagrams are of identical length, the Hamming distance between them can be calculated.\n",
    "\n",
    "s1 = \"read\"\n",
    "\n",
    "s2 = \"dear\"\n",
    "\n",
    "These strings differ at the first and last positions, giving them a Hamming distance of 2. \"Plead\" and \"paled\" have a Hamming distance of 3.\n",
    "\n",
    "Create a function that takes two strings, and returns:\n",
    "\n",
    "True if they are anagrams of each other and their Hamming distance is equal to their length (i.e. no letters in the same positions).\n",
    "\n",
    "False if they aren't anagrams, or Their Hamming distance if they are anagrams with >=1 letter at the same index. Examples\n",
    "\n",
    "max_ham(\"dear\", \"read\") ➞ 2\n",
    "\n",
    "max_ham(\"dare\", \"read\") ➞ True\n",
    "\n",
    "max_ham(\"solemn\", \"molest\") ➞ False"
   ],
   "cell_type": "markdown",
   "metadata": {}
  },
  {
   "cell_type": "code",
   "execution_count": null,
   "metadata": {},
   "outputs": [],
   "source": []
  }
 ]
}