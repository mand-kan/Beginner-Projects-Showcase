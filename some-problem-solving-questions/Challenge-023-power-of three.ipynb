{
 "metadata": {
  "language_info": {
   "codemirror_mode": {
    "name": "ipython",
    "version": 3
   },
   "file_extension": ".py",
   "mimetype": "text/x-python",
   "name": "python",
   "nbconvert_exporter": "python",
   "pygments_lexer": "ipython3",
   "version": "3.7.4-final"
  },
  "orig_nbformat": 2,
  "kernelspec": {
   "name": "Python 3.7.4 64-bit ('base': conda)",
   "display_name": "Python 3.7.4 64-bit ('base': conda)",
   "metadata": {
    "interpreter": {
     "hash": "0fce32da4737002e22a60a348198876133fea3deab1bc23f10ef0cff463beb23"
    }
   }
  }
 },
 "nbformat": 4,
 "nbformat_minor": 2,
 "cells": [
  {
   "source": [
    "Given an input integer x, return a list of integers in which the sum is equal to x. The integers inside the list must consist of values that are a power of 3. For example:\n",
    "\n",
    "1 is a possible number of the list because of 3^0 => 1\n",
    "\n",
    "3 is also a possible number of the list because 3^1 => 3\n",
    "\n",
    "and so on.\n",
    "\n",
    "\n",
    "\n",
    "Example:\n",
    "\n",
    "Input: \n",
    "\n",
    "4\n",
    "\n",
    "\n",
    "\n",
    "Output:\n",
    "\n",
    "[1, 3]\n",
    "\n",
    "Because 1 +3 = 4 \n",
    "\n",
    "And 3^0 => 1 and 3^1 => 3\n",
    "\n",
    "\n",
    "\n",
    "Invalid output:\n",
    "\n",
    "[2, 2]\n",
    "\n",
    "Even though 2 + 2 = 4, \n",
    "\n",
    "2 is not a power of 3. \n",
    "\n",
    "Therefore, 2 is an invalid output in the list.\n",
    "\n"
   ],
   "cell_type": "markdown",
   "metadata": {}
  },
  {
   "cell_type": "code",
   "execution_count": 84,
   "metadata": {
    "tags": []
   },
   "outputs": [
    {
     "output_type": "execute_result",
     "data": {
      "text/plain": "[]"
     },
     "metadata": {},
     "execution_count": 84
    }
   ],
   "source": [
    "import math\n",
    "def checksum(integer):\n",
    "    li = []\n",
    "    for i in range(1,int(integer/2)+1):\n",
    "        x=i\n",
    "        y=integer - i\n",
    "        if math.log(y,3).is_integer() and math.log(x,3).is_integer():\n",
    "            li.append(x)\n",
    "            li.append(y)\n",
    "    return li\n",
    "checksum(29)"
   ]
  }
 ]
}