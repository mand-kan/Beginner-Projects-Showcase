{
 "metadata": {
  "language_info": {
   "codemirror_mode": {
    "name": "ipython",
    "version": 3
   },
   "file_extension": ".py",
   "mimetype": "text/x-python",
   "name": "python",
   "nbconvert_exporter": "python",
   "pygments_lexer": "ipython3",
   "version": "3.7.4-final"
  },
  "orig_nbformat": 2,
  "kernelspec": {
   "name": "python3",
   "display_name": "Python 3"
  }
 },
 "nbformat": 4,
 "nbformat_minor": 2,
 "cells": [
  {
   "cell_type": "markdown",
   "metadata": {},
   "source": [
    "Given the number of people in the room, calculate the probability that any two people in that room have the same birthday, assuming we have 365 days in a year. (no leap years) Return the probability rounded off to two decimal points.\n",
    "\n",
    "\n",
    "def calculate_probability(n):\n",
    "\n",
    "    return probability\n",
    "\n",
    "\n",
    "Hint: In order to calculate the probability, you might find it useful to use the probability that NO ONE shares the same birthday in the room:\n",
    "\n",
    "\n",
    "365! / ((365-n)! * 365^n)\n",
    "\n",
    "\n",
    "The ! sign above denotes the mathematical notation factorial. eg. 10! = 10 x 9 x 8 x 7 x 6 x 5 x 4 x 3 x 2 x 1\n",
    "\n",
    "The math module in Python has a built-in function for factorials which you can easily call. As a challenge you can also attempt the question without using the built-in factorial function."
   ]
  },
  {
   "cell_type": "code",
   "execution_count": 9,
   "metadata": {
    "tags": []
   },
   "outputs": [
    {
     "output_type": "stream",
     "name": "stdout",
     "text": "0.040462483649111536\n"
    }
   ],
   "source": [
    "def factorial(x):\n",
    "    result = 1\n",
    "    for i in range(1,x+1):\n",
    "        result*=i\n",
    "    return result\n",
    "\n",
    "def calculate_probability(n):\n",
    "    probability = 1-(factorial(365)/(factorial(365-n)*(365**n)))\n",
    "    return probability\n",
    "\n",
    "print(calculate_probability(6))"
   ]
  },
  {
   "cell_type": "code",
   "execution_count": null,
   "metadata": {},
   "outputs": [],
   "source": []
  }
 ]
}