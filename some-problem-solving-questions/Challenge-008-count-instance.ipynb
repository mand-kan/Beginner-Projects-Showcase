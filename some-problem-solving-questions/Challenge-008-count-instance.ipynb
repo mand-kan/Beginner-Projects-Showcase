{
 "metadata": {
  "language_info": {
   "codemirror_mode": {
    "name": "ipython",
    "version": 3
   },
   "file_extension": ".py",
   "mimetype": "text/x-python",
   "name": "python",
   "nbconvert_exporter": "python",
   "pygments_lexer": "ipython3",
   "version": "3.7.3-final"
  },
  "orig_nbformat": 2,
  "kernelspec": {
   "name": "python37364bit55775df660d549b0be4d5edc9f9adf65",
   "display_name": "Python 3.7.3 64-bit"
  }
 },
 "nbformat": 4,
 "nbformat_minor": 2,
 "cells": [
  {
   "cell_type": "markdown",
   "metadata": {},
   "source": [
    "Given two integer inputs n and d, create a function that squares all numbers from 1 to n, then returns the count of all instances of d from the square results.  \n",
    "\n",
    "\n",
    "\n",
    "Example: \n",
    "\n",
    "n: 5\n",
    "\n",
    "d: 1\n",
    "\n",
    "square of numbers from 1 to 5: 1, 4, 9, 16, 25\n",
    "\n",
    "returns: 2 (since there's 2 instances of the digit 1, in 1 and 16)"
   ]
  },
  {
   "cell_type": "code",
   "execution_count": 8,
   "metadata": {
    "tags": []
   },
   "outputs": [
    {
     "output_type": "stream",
     "name": "stdout",
     "text": "2\n"
    }
   ],
   "source": [
    "def calcul(n,d):\n",
    "    li = [i**2 for i in range(1,n+1)]\n",
    "    count=0\n",
    "    for i in li:\n",
    "        for i in str(i):\n",
    "            if i == str(d):\n",
    "                count+=1\n",
    "    return count\n",
    "\n",
    "print(calcul(5,1))"
   ]
  },
  {
   "cell_type": "code",
   "execution_count": null,
   "metadata": {},
   "outputs": [],
   "source": []
  }
 ]
}