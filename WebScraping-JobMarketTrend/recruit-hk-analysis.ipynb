{
 "cells": [
  {
   "cell_type": "code",
   "execution_count": 2,
   "metadata": {},
   "outputs": [],
   "source": [
    "# import BeautifulSoup library\n",
    "from bs4 import BeautifulSoup   # Enough for HTML\n",
    "import requests    # Enough for HTML\n",
    "from selenium import webdriver    # Selenium is specifically for JS website\n",
    "from selenium.webdriver.common.keys import Keys\n",
    "from selenium.webdriver.support.ui import WebDriverWait\n",
    "%matplotlib inline\n",
    "import matplotlib.pyplot as plt\n",
    "import matplotlib as mpl\n",
    "import seaborn as sns\n",
    "\n",
    "import re\n",
    "import pandas as pd\n",
    "import numpy as np\n",
    "sns.set(color_codes=True) #overide maplot libs ugly colours.\n",
    "mpl.rcParams['figure.figsize'] = [22, 14] #default figure size"
   ]
  },
  {
   "cell_type": "code",
   "execution_count": null,
   "metadata": {},
   "outputs": [],
   "source": [
    "from bs4 import BeautifulSoup\n",
    "import requests\n",
    "from selenium import webdriver\n",
    "from selenium.webdriver.common.keys import Keys\n",
    "from selenium.webdriver.support.ui import WebDriverWait\n",
    "import numpy as np\n",
    "import re\n",
    "import pandas as pd\n",
    "import requests\n",
    "driver = webdriver.Chrome(executable_path='/Applications/chromedriver')\n",
    "df1=pd.DataFrame()\n",
    "\n",
    "def getdetails(x,indus):\n",
    "    driver.execute_script(\"window.open('');\")\n",
    "    for job in x.find_all('a',{'class':'title'}):\n",
    "        global df1\n",
    "        driver.switch_to.window(driver.window_handles[1])\n",
    "        INNERURL = 'https://www.recruit.com.hk'+job['href']\n",
    "        driver.get(INNERURL)\n",
    "        innerhtml = driver.page_source\n",
    "        inner = BeautifulSoup(innerhtml, \"html.parser\")\n",
    "        print(INNERURL)\n",
    "        \n",
    "        title = inner.find(id='jobDetail_jobTitleLab').text if inner.find(id='jobDetail_jobTitleLab') else np.nan\n",
    "        postdate = inner.find(id='jobDetail_postDateLabel').text if inner.find(id='jobDetail_postDateLabel') else np.nan\n",
    "        company = inner.find(id='jobDetail_companyNameLabel').text if inner.find(id='jobDetail_companyNameLabel') else np.nan\n",
    "        poslevel = inner.find(id='jobDetail_jobPosLvlLabel').text if inner.find(id='jobDetail_jobPosLvlLabel') else np.nan\n",
    "        industrylabel = inner.find(id='jobDetail_jobIndustryLabel').text if inner.find(id='jobDetail_jobIndustryLabel') else np.nan\n",
    "        education = inner.find(id='jobDetail_eduLevelLabel').text if inner.find(id='jobDetail_eduLevelLabel') else np.nan\n",
    "        workexp = inner.find(id='jobDetail_workExpLabel').text if inner.find(id='jobDetail_workExpLabel') else np.nan\n",
    "        salary = inner.find(id='jobDetail_salaryLabel').text if inner.find(id='jobDetail_salaryLabel') else np.nan\n",
    "        location = inner.find(id='jobDetail_locationLabel').text if inner.find(id='jobDetail_locationLabel') else np.nan\n",
    "        jobfunction = [i.text for i in inner.find_all(id=re.compile(\"^jobDetail_jobCatFunc\\d+Link\"))] \\\n",
    "        if inner.find_all(id=re.compile(\"^jobDetail_jobCatFunc\\d+Link\")) else np.nan\n",
    "        benefits = [i.text for i in inner.find_all(id=re.compile(\"^jobDetail_benefitsLV_ctrl\\d+\"))] \\\n",
    "        if inner.find_all(id=re.compile(\"^jobDetail_benefitsLV_ctrl\\d+\")) else np.nan\n",
    "        wideindustry = indus\n",
    "\n",
    "        df1 = df1.append({\"Job_title\":title, \"Posting_date\":postdate, \"Company\":company,\"Level\":poslevel, \"Industry_label\":industrylabel,\"Education\":education,\\\n",
    "                  \"Work_exp\":workexp,\"Salary\":salary,\"Location\":location,\"Job_function\":jobfunction,\"Benefits\":benefits,\"Industry\":wideindustry},ignore_index=True) \n",
    " \n",
    " #start of code\n",
    "# for i, v in jobcatdf[(jobcatdf['CatNo']==26000)|(jobcatdf['CatNo']==13000)|(jobcatdf['CatNo']==19000)|(jobcatdf['CatNo']==53460)|(jobcatdf['CatNo']==41000)|(jobcatdf['CatNo']==20000)].iterrows():\n",
    "for i, v in jobcatdf[(jobcatdf['CatNo']==41000)].iterrows():\n",
    "\n",
    "    URL = \"https://www.recruit.com.hk/jobseeker/JobSearchResult.aspx?searchPath=C&jobCat=\"+str(v.CatNo)\n",
    "    driver.get(URL)\n",
    "    subhtml = driver.page_source\n",
    "    soup = BeautifulSoup(subhtml, \"html.parser\")\n",
    "\n",
    "    try:\n",
    "        while (soup.find('a',{'class':\"next-page PageNumber\"})['href']):\n",
    "            # driver.get(URL)\n",
    "            getdetails(soup,v.JobCat)\n",
    "            driver.close()\n",
    "            driver.switch_to.window(driver.window_handles[0])\n",
    "            driver.execute_script(\"__doPostBack('pagerBottom$ctl02$ctl00','')\")\n",
    "            # driver.findElement(By.class(\"next-page PageNumber\")).click()\n",
    "            WebDriverWait(driver, 30)\n",
    "            newphtml = driver.page_source\n",
    "            soup = BeautifulSoup(newphtml, \"html.parser\")\n",
    "    except:\n",
    "        print('pass',URL)\n",
    "        continue"
   ]
  },
  {
   "cell_type": "code",
   "execution_count": null,
   "metadata": {},
   "outputs": [],
   "source": [
    "df.to_csv('data/recruithk.csv',mode = 'a', header = False,index = False)"
   ]
  },
  {
   "cell_type": "code",
   "execution_count": 3,
   "metadata": {},
   "outputs": [],
   "source": [
    "##### CTGoodJobs csv ######"
   ]
  },
  {
   "cell_type": "code",
   "execution_count": 4,
   "metadata": {},
   "outputs": [
    {
     "data": {
      "text/plain": [
       "(13546, 13)"
      ]
     },
     "execution_count": 4,
     "metadata": {},
     "output_type": "execute_result"
    }
   ],
   "source": [
    "# Getting the CTGoodJobs data from csv\n",
    "dfct = pd.read_csv('data/ctjobs.csv')\n",
    "dfct.shape"
   ]
  },
  {
   "cell_type": "code",
   "execution_count": 5,
   "metadata": {},
   "outputs": [],
   "source": [
    "import ftfy"
   ]
  },
  {
   "cell_type": "code",
   "execution_count": 6,
   "metadata": {},
   "outputs": [],
   "source": [
    "# Fixing UTF-8 problem\n",
    "from ftfy import fix_encoding\n",
    "dfct['Job_title'] = dfct['Job_title'].apply(lambda x: fix_encoding(x))\n",
    "dfct['Company'] = dfct['Company'].apply(lambda x: fix_encoding(str(x)))"
   ]
  },
  {
   "cell_type": "code",
   "execution_count": 7,
   "metadata": {},
   "outputs": [
    {
     "data": {
      "text/html": [
       "<div>\n",
       "<style scoped>\n",
       "    .dataframe tbody tr th:only-of-type {\n",
       "        vertical-align: middle;\n",
       "    }\n",
       "\n",
       "    .dataframe tbody tr th {\n",
       "        vertical-align: top;\n",
       "    }\n",
       "\n",
       "    .dataframe thead th {\n",
       "        text-align: right;\n",
       "    }\n",
       "</style>\n",
       "<table border=\"1\" class=\"dataframe\">\n",
       "  <thead>\n",
       "    <tr style=\"text-align: right;\">\n",
       "      <th></th>\n",
       "      <th>Unnamed: 0</th>\n",
       "      <th>Benefits</th>\n",
       "      <th>Company</th>\n",
       "      <th>Education</th>\n",
       "      <th>Industry</th>\n",
       "      <th>Industry_label</th>\n",
       "      <th>Job_function</th>\n",
       "      <th>Job_title</th>\n",
       "      <th>Level</th>\n",
       "      <th>Location</th>\n",
       "      <th>Posting_date</th>\n",
       "      <th>Salary</th>\n",
       "      <th>Work_exp</th>\n",
       "    </tr>\n",
       "  </thead>\n",
       "  <tbody>\n",
       "    <tr>\n",
       "      <td>0</td>\n",
       "      <td>0</td>\n",
       "      <td>\\n\\n5-day week\\nEducation subsidies\\nFlexible ...</td>\n",
       "      <td>China Life Insurance (Overseas) Company Limited</td>\n",
       "      <td>\\n\\nDiploma or equivalent\\nAsso. Deg or High D...</td>\n",
       "      <td>Banking / Finance</td>\n",
       "      <td>\\n\\nInsuranceFinancial Services\\n\\n</td>\n",
       "      <td>\\n\\nBanking / Finance - Client Service\\nInsura...</td>\n",
       "      <td>助理業務經理/準區域總監</td>\n",
       "      <td>\\n\\nNon-management level\\n</td>\n",
       "      <td>\\n\\nWanchai\\n\\n</td>\n",
       "      <td>Posted on 2020-09-09</td>\n",
       "      <td>\\n\\n N/A  ( Search your salary info in  )\\n\\n</td>\n",
       "      <td>\\n\\n0 year - 5 years\\n\\n</td>\n",
       "    </tr>\n",
       "    <tr>\n",
       "      <td>1</td>\n",
       "      <td>1</td>\n",
       "      <td>NaN</td>\n",
       "      <td>Citi</td>\n",
       "      <td>\\n\\nDegree\\n\\n</td>\n",
       "      <td>Banking / Finance</td>\n",
       "      <td>\\n\\nBanking\\n\\n</td>\n",
       "      <td>\\n\\nBanking / Finance - Client Service\\nBankin...</td>\n",
       "      <td>Citigold Relationship Manager</td>\n",
       "      <td>\\n\\nNon-management level\\n</td>\n",
       "      <td>NaN</td>\n",
       "      <td>Posted on 2020-09-07</td>\n",
       "      <td>\\n\\n N/A  ( Search your salary info in  )\\n\\n</td>\n",
       "      <td>\\n\\n2 years - 7 years\\n\\n</td>\n",
       "    </tr>\n",
       "    <tr>\n",
       "      <td>2</td>\n",
       "      <td>2</td>\n",
       "      <td>\\n\\n5-day week\\nEducation subsidies\\nFlexible ...</td>\n",
       "      <td>NLT Company</td>\n",
       "      <td>\\n\\nF.5- F.7 or DSE\\nAsso. Deg or High Dip\\nDe...</td>\n",
       "      <td>Banking / Finance</td>\n",
       "      <td>\\n\\nBankingFinancial ServicesProperty Manageme...</td>\n",
       "      <td>\\n\\nAccounting / Auditing - Corporate Finance\\...</td>\n",
       "      <td>Wealth Management Trainee(歡迎本地畢業生及IANG)</td>\n",
       "      <td>\\n\\nEntry level\\n</td>\n",
       "      <td>\\n\\nWanchai\\n\\n</td>\n",
       "      <td>Posted on 2020-09-11</td>\n",
       "      <td>\\n\\n 14,000 - 25,000 / month  \\n\\n</td>\n",
       "      <td>\\n\\n0 year - 2 years\\n\\n</td>\n",
       "    </tr>\n",
       "    <tr>\n",
       "      <td>3</td>\n",
       "      <td>3</td>\n",
       "      <td>\\n\\n5-day week\\nEducation subsidies\\nFlexible ...</td>\n",
       "      <td>China Life Insurance (Overseas) Company Limited</td>\n",
       "      <td>\\n\\nDiploma or equivalent\\nAsso. Deg or High D...</td>\n",
       "      <td>Banking / Finance</td>\n",
       "      <td>\\n\\nInsuranceFinancial Services\\n\\n</td>\n",
       "      <td>\\n\\nBanking / Finance - Client Service\\nInsura...</td>\n",
       "      <td>助理業務經理/準區域總監</td>\n",
       "      <td>\\n\\nNon-management level\\n</td>\n",
       "      <td>\\n\\nWanchai\\n\\n</td>\n",
       "      <td>Posted on 2020-09-11</td>\n",
       "      <td>\\n\\n N/A  ( Search your salary info in  )\\n\\n</td>\n",
       "      <td>\\n\\n0 year - 5 years\\n\\n</td>\n",
       "    </tr>\n",
       "    <tr>\n",
       "      <td>4</td>\n",
       "      <td>4</td>\n",
       "      <td>NaN</td>\n",
       "      <td>RecruitFirst Limited</td>\n",
       "      <td>\\n\\nDiploma or equivalent\\nAsso. Deg or High D...</td>\n",
       "      <td>Banking / Finance</td>\n",
       "      <td>\\n\\nAccounting / Audit / Tax ServicesBankingFi...</td>\n",
       "      <td>\\n\\nBanking / Finance - Analyst\\nBanking / Fin...</td>\n",
       "      <td>Operation Manager (Asset Management)</td>\n",
       "      <td>\\n\\nMiddle management level\\n</td>\n",
       "      <td>\\n\\nCentral\\n\\n</td>\n",
       "      <td>Posted on 2020-09-11</td>\n",
       "      <td>\\n\\n 35,000 - 45,000 / month  \\n\\n</td>\n",
       "      <td>\\n\\n5 years - 8 years\\n\\n</td>\n",
       "    </tr>\n",
       "  </tbody>\n",
       "</table>\n",
       "</div>"
      ],
      "text/plain": [
       "   Unnamed: 0                                           Benefits  \\\n",
       "0           0  \\n\\n5-day week\\nEducation subsidies\\nFlexible ...   \n",
       "1           1                                                NaN   \n",
       "2           2  \\n\\n5-day week\\nEducation subsidies\\nFlexible ...   \n",
       "3           3  \\n\\n5-day week\\nEducation subsidies\\nFlexible ...   \n",
       "4           4                                                NaN   \n",
       "\n",
       "                                           Company  \\\n",
       "0  China Life Insurance (Overseas) Company Limited   \n",
       "1                                             Citi   \n",
       "2                                      NLT Company   \n",
       "3  China Life Insurance (Overseas) Company Limited   \n",
       "4                             RecruitFirst Limited   \n",
       "\n",
       "                                           Education           Industry  \\\n",
       "0  \\n\\nDiploma or equivalent\\nAsso. Deg or High D...  Banking / Finance   \n",
       "1                                     \\n\\nDegree\\n\\n  Banking / Finance   \n",
       "2  \\n\\nF.5- F.7 or DSE\\nAsso. Deg or High Dip\\nDe...  Banking / Finance   \n",
       "3  \\n\\nDiploma or equivalent\\nAsso. Deg or High D...  Banking / Finance   \n",
       "4  \\n\\nDiploma or equivalent\\nAsso. Deg or High D...  Banking / Finance   \n",
       "\n",
       "                                      Industry_label  \\\n",
       "0                \\n\\nInsuranceFinancial Services\\n\\n   \n",
       "1                                    \\n\\nBanking\\n\\n   \n",
       "2  \\n\\nBankingFinancial ServicesProperty Manageme...   \n",
       "3                \\n\\nInsuranceFinancial Services\\n\\n   \n",
       "4  \\n\\nAccounting / Audit / Tax ServicesBankingFi...   \n",
       "\n",
       "                                        Job_function  \\\n",
       "0  \\n\\nBanking / Finance - Client Service\\nInsura...   \n",
       "1  \\n\\nBanking / Finance - Client Service\\nBankin...   \n",
       "2  \\n\\nAccounting / Auditing - Corporate Finance\\...   \n",
       "3  \\n\\nBanking / Finance - Client Service\\nInsura...   \n",
       "4  \\n\\nBanking / Finance - Analyst\\nBanking / Fin...   \n",
       "\n",
       "                                 Job_title                          Level  \\\n",
       "0                             助理業務經理/準區域總監     \\n\\nNon-management level\\n   \n",
       "1            Citigold Relationship Manager     \\n\\nNon-management level\\n   \n",
       "2  Wealth Management Trainee(歡迎本地畢業生及IANG)              \\n\\nEntry level\\n   \n",
       "3                             助理業務經理/準區域總監     \\n\\nNon-management level\\n   \n",
       "4     Operation Manager (Asset Management)  \\n\\nMiddle management level\\n   \n",
       "\n",
       "          Location          Posting_date  \\\n",
       "0  \\n\\nWanchai\\n\\n  Posted on 2020-09-09   \n",
       "1              NaN  Posted on 2020-09-07   \n",
       "2  \\n\\nWanchai\\n\\n  Posted on 2020-09-11   \n",
       "3  \\n\\nWanchai\\n\\n  Posted on 2020-09-11   \n",
       "4  \\n\\nCentral\\n\\n  Posted on 2020-09-11   \n",
       "\n",
       "                                          Salary                   Work_exp  \n",
       "0  \\n\\n N/A  ( Search your salary info in  )\\n\\n   \\n\\n0 year - 5 years\\n\\n  \n",
       "1  \\n\\n N/A  ( Search your salary info in  )\\n\\n  \\n\\n2 years - 7 years\\n\\n  \n",
       "2             \\n\\n 14,000 - 25,000 / month  \\n\\n   \\n\\n0 year - 2 years\\n\\n  \n",
       "3  \\n\\n N/A  ( Search your salary info in  )\\n\\n   \\n\\n0 year - 5 years\\n\\n  \n",
       "4             \\n\\n 35,000 - 45,000 / month  \\n\\n  \\n\\n5 years - 8 years\\n\\n  "
      ]
     },
     "execution_count": 7,
     "metadata": {},
     "output_type": "execute_result"
    }
   ],
   "source": [
    "# First 5 rows of CTGoodJobs DF\n",
    "dfct.head()"
   ]
  },
  {
   "cell_type": "code",
   "execution_count": 8,
   "metadata": {},
   "outputs": [],
   "source": [
    "# Removal of the unnamed column: 0\n",
    "dfct.drop('Unnamed: 0', axis=1, inplace=True)"
   ]
  },
  {
   "cell_type": "code",
   "execution_count": 9,
   "metadata": {},
   "outputs": [
    {
     "name": "stdout",
     "output_type": "stream",
     "text": [
      "The history saving thread hit an unexpected error (OperationalError('unable to open database file')).History will not be written to the database."
     ]
    },
    {
     "name": "stderr",
     "output_type": "stream",
     "text": [
      "Exception in thread IPythonHistorySavingThread:\n",
      "Traceback (most recent call last):\n",
      "  File \"/Users/mankan/opt/anaconda3/lib/python3.7/site-packages/IPython/core/history.py\", line 834, in run\n",
      "  File \"</Users/mankan/opt/anaconda3/lib/python3.7/site-packages/decorator.py:decorator-gen-23>\", line 2, in writeout_cache\n",
      "  File \"/Users/mankan/opt/anaconda3/lib/python3.7/site-packages/IPython/core/history.py\", line 58, in needs_sqlite\n",
      "  File \"/Users/mankan/opt/anaconda3/lib/python3.7/site-packages/IPython/core/history.py\", line 780, in writeout_cache\n",
      "  File \"/Users/mankan/opt/anaconda3/lib/python3.7/site-packages/IPython/core/history.py\", line 764, in _writeout_input_cache\n",
      "sqlite3.OperationalError: unable to open database file\n",
      "\n",
      "During handling of the above exception, another exception occurred:\n",
      "\n",
      "Traceback (most recent call last):\n",
      "  File \"/Users/mankan/opt/anaconda3/lib/python3.7/site-packages/ipykernel/iostream.py\", line 97, in _event_pipe\n",
      "AttributeError: '_thread._local' object has no attribute 'event_pipe'\n",
      "\n",
      "During handling of the above exception, another exception occurred:\n",
      "\n",
      "Traceback (most recent call last):\n",
      "  File \"/Users/mankan/opt/anaconda3/lib/python3.7/threading.py\", line 926, in _bootstrap_inner\n",
      "  File \"</Users/mankan/opt/anaconda3/lib/python3.7/site-packages/decorator.py:decorator-gen-24>\", line 2, in run\n",
      "  File \"/Users/mankan/opt/anaconda3/lib/python3.7/site-packages/IPython/core/history.py\", line 58, in needs_sqlite\n",
      "  File \"/Users/mankan/opt/anaconda3/lib/python3.7/site-packages/IPython/core/history.py\", line 837, in run\n",
      "  File \"/Users/mankan/opt/anaconda3/lib/python3.7/site-packages/ipykernel/iostream.py\", line 402, in write\n",
      "  File \"/Users/mankan/opt/anaconda3/lib/python3.7/site-packages/ipykernel/iostream.py\", line 205, in schedule\n",
      "  File \"/Users/mankan/opt/anaconda3/lib/python3.7/site-packages/ipykernel/iostream.py\", line 101, in _event_pipe\n",
      "  File \"/Users/mankan/opt/anaconda3/lib/python3.7/site-packages/zmq/sugar/context.py\", line 204, in socket\n",
      "  File \"/Users/mankan/opt/anaconda3/lib/python3.7/site-packages/zmq/sugar/socket.py\", line 59, in __init__\n",
      "  File \"zmq/backend/cython/socket.pyx\", line 328, in zmq.backend.cython.socket.Socket.__init__\n",
      "zmq.error.ZMQError: Too many open files in system\n",
      "Unhandled exception in thread started by <bound method Thread._bootstrap of <HistorySavingThread(IPythonHistorySavingThread, started 123145478160384)>>\n",
      "ERROR:root:Internal Python error in the inspect module.\n",
      "Below is the traceback from this internal error.\n",
      "\n",
      "--- Logging error ---\n",
      "Error in sys.excepthook:\n",
      "Traceback (most recent call last):\n",
      "\n",
      "\n",
      "During handling of the above exception, another exception occurred:\n",
      "\n",
      "\n",
      "\n",
      "During handling of the above exception, another exception occurred:\n",
      "\n",
      "\n",
      "\n",
      "During handling of the above exception, another exception occurred:\n",
      "\n",
      "\n",
      "\n",
      "During handling of the above exception, another exception occurred:\n",
      "\n",
      "\n",
      "\n",
      "During handling of the above exception, another exception occurred:\n",
      "\n",
      "\n",
      "\n",
      "Original exception was:\n",
      "Traceback (most recent call last):\n",
      "\n",
      "\n",
      "During handling of the above exception, another exception occurred:\n",
      "\n",
      "\n",
      "\n",
      "During handling of the above exception, another exception occurred:\n",
      "\n",
      "\n",
      "\n",
      "During handling of the above exception, another exception occurred:\n",
      "\n",
      "\n",
      "\n",
      "During handling of the above exception, another exception occurred:\n",
      "\n",
      "\n"
     ]
    },
    {
     "data": {
      "text/plain": [
       "(13456, 12)"
      ]
     },
     "execution_count": 9,
     "metadata": {},
     "output_type": "execute_result"
    }
   ],
   "source": [
    "# Drop duplicate rows with same job post\n",
    "dfct = dfct.drop_duplicates(keep='first')\n",
    "dfct.shape"
   ]
  },
  {
   "cell_type": "code",
   "execution_count": 10,
   "metadata": {},
   "outputs": [],
   "source": [
    "# Assign data source from CTGoodjobs before merging the data\n",
    "dfct['Source'] = \"CTGoodjobs\""
   ]
  },
  {
   "cell_type": "code",
   "execution_count": 11,
   "metadata": {},
   "outputs": [],
   "source": [
    "# Standardize the Industry name for further analysis and merging two df\n",
    "dfct['Industry'] = dfct['Industry'].replace('Marketing / Public Relations',\"Marketing\")\n",
    "dfct['Industry'] = dfct['Industry'].replace('Engineering',\"Engineering\")\n",
    "dfct['Industry'] = dfct['Industry'].replace('Information Technology',\"IT\")\n",
    "dfct['Industry'] = dfct['Industry'].replace('Education',\"Education\")\n",
    "dfct['Industry'] = dfct['Industry'].replace('Banking / Finance',\"Banking / Finance\")\n",
    "dfct['Industry'] = dfct['Industry'].replace('Hotel / Catering / Club',\"Hospitality\")"
   ]
  },
  {
   "cell_type": "code",
   "execution_count": 12,
   "metadata": {},
   "outputs": [],
   "source": [
    "# Clean Posting Date data\n",
    "dfct['Posting_date'] = dfct['Posting_date'].str.replace('Posted on ','')"
   ]
  },
  {
   "cell_type": "code",
   "execution_count": 13,
   "metadata": {},
   "outputs": [],
   "source": [
    "# Convert posting date to datetime format\n",
    "dfct['Posting_date'] = pd.to_datetime(dfct['Posting_date'])"
   ]
  },
  {
   "cell_type": "code",
   "execution_count": 14,
   "metadata": {},
   "outputs": [],
   "source": [
    "# Select the date range we want to focus\n",
    "dfct = dfct[(dfct['Posting_date']>='2020-08-10') & (dfct['Posting_date']<='2020-09-05')]"
   ]
  },
  {
   "cell_type": "code",
   "execution_count": 15,
   "metadata": {},
   "outputs": [],
   "source": [
    "# Clean Level data and re-categorize \n",
    "dfct['Level'] = dfct['Level'].str.strip(\"\\n\\n\")\n",
    "dfct['Level'] = dfct['Level'].apply(lambda x : \"Entry\" if x == \"Non-management level\"\\\n",
    "                                else\"Entry\" if x == \"N/A\" else \"Entry\" if x == \\\n",
    "                                \"Entry level\" else 'Entry' if x == \"General\" else \"Middle\"\\\n",
    "                                if x == \"Middle management level\" else \"Senior\" if x\\\n",
    "                                == \"Senior management level\"else \"Senior\" if x == 'Top' else x)"
   ]
  },
  {
   "cell_type": "code",
   "execution_count": 16,
   "metadata": {},
   "outputs": [],
   "source": [
    "# Clean Industry_label data and make it to a list\n",
    "dfct['Industry_label'] = dfct.Industry_label.str.strip(\"\\n\\n\").str.replace(r\"(?<=[A-Za-z])(?=[A-Z][a-z])\",r\"$\",regex=True)\n",
    "dfct['Industry_label'] = dfct['Industry_label'].str.split('$')"
   ]
  },
  {
   "cell_type": "code",
   "execution_count": 17,
   "metadata": {},
   "outputs": [],
   "source": [
    "# Clean Job_function data for identifying IT vs non-IT skilled roles\n",
    "dfct['Job_function'] = dfct['Job_function'].str.strip(\"\\n\\n\")"
   ]
  },
  {
   "cell_type": "code",
   "execution_count": 18,
   "metadata": {},
   "outputs": [],
   "source": [
    "# Clean Location data \n",
    "dfct['Location'] = dfct['Location'].str.strip(\"\\n\\n\")"
   ]
  },
  {
   "cell_type": "code",
   "execution_count": 19,
   "metadata": {},
   "outputs": [],
   "source": [
    "# Clean Education data\n",
    "dfct['Education'] = dfct['Education'].str.strip(\"\\n\\n\")"
   ]
  },
  {
   "cell_type": "code",
   "execution_count": 20,
   "metadata": {},
   "outputs": [],
   "source": [
    "# Clean Benefits data and convert it to a list of benefits to analyze on correlation between jobs and no. of benefits\n",
    "dfct['Benefits'] = dfct.Benefits.str.strip('\\n\\n').str.split('\\n')"
   ]
  },
  {
   "cell_type": "code",
   "execution_count": 21,
   "metadata": {},
   "outputs": [],
   "source": [
    "# Create a new column of Benefits_count to quantify it\n",
    "dfct['Benefits_count'] = dfct['Benefits'].str.len()"
   ]
  },
  {
   "cell_type": "code",
   "execution_count": 22,
   "metadata": {},
   "outputs": [],
   "source": [
    "# Clean Salary data and change them to float64, split it to Min_salary & Max_salary columns for further analysis\n",
    "dfct['Min_salary'] = dfct['Salary'].str.replace(',','').str.extract(r'\\D(\\d+\\d+).').astype(float)\n",
    "dfct['Max_salary'] = dfct['Salary'].str.replace(',','').str.extract(r'\\-\\s(\\d+\\d+)').astype(float)"
   ]
  },
  {
   "cell_type": "code",
   "execution_count": 23,
   "metadata": {},
   "outputs": [],
   "source": [
    "# Salary data in hours to approx. monthly pay case\n",
    "dfct['Min_salary'] = dfct['Min_salary'].apply(lambda x: x*8*20 if x < 500 else x)\n",
    "dfct['Max_salary'] = dfct['Max_salary'].apply(lambda x: x*8*20 if x < 500 else x)"
   ]
  },
  {
   "cell_type": "code",
   "execution_count": 24,
   "metadata": {},
   "outputs": [],
   "source": [
    "# Clean Work Exp data and change them to float64, split it to Min_workexp & Max_workexp columns for further analysis\n",
    "dfct['Min_workexp'] = dfct['Work_exp'].str.replace(',','').str.extract(r'\\n\\n(\\d+)').astype(float)\n",
    "dfct['Max_workexp'] = dfct['Work_exp'].str.replace(',','').str.extract(r'\\-\\s(\\d+)').astype(float)"
   ]
  },
  {
   "cell_type": "code",
   "execution_count": 25,
   "metadata": {},
   "outputs": [],
   "source": [
    "# Create IT_Specialization column to assign True & False to count no. of jobs grouped under IT in each sector\n",
    "dfct['IT_Specialization'] = dfct['Job_function'].str.contains('Information Technology',regex=False)"
   ]
  },
  {
   "cell_type": "code",
   "execution_count": 26,
   "metadata": {},
   "outputs": [],
   "source": [
    "# Analysis 3: Industry Overview\n",
    "# 3.3: Top 10 most popular job titles per sector\n",
    "# Cleaning job title data by regex and str.replace"
   ]
  },
  {
   "cell_type": "code",
   "execution_count": 27,
   "metadata": {},
   "outputs": [],
   "source": [
    "##### RecriitHK csv ######"
   ]
  },
  {
   "cell_type": "code",
   "execution_count": 28,
   "metadata": {},
   "outputs": [
    {
     "data": {
      "text/plain": [
       "(5295, 12)"
      ]
     },
     "execution_count": 28,
     "metadata": {},
     "output_type": "execute_result"
    }
   ],
   "source": [
    "# Getting the RecruitHK data from csv\n",
    "dfre = pd.read_csv('data/recruithk.csv')\n",
    "dfre.shape"
   ]
  },
  {
   "cell_type": "code",
   "execution_count": 29,
   "metadata": {},
   "outputs": [
    {
     "data": {
      "text/html": [
       "<div>\n",
       "<style scoped>\n",
       "    .dataframe tbody tr th:only-of-type {\n",
       "        vertical-align: middle;\n",
       "    }\n",
       "\n",
       "    .dataframe tbody tr th {\n",
       "        vertical-align: top;\n",
       "    }\n",
       "\n",
       "    .dataframe thead th {\n",
       "        text-align: right;\n",
       "    }\n",
       "</style>\n",
       "<table border=\"1\" class=\"dataframe\">\n",
       "  <thead>\n",
       "    <tr style=\"text-align: right;\">\n",
       "      <th></th>\n",
       "      <th>Benefits</th>\n",
       "      <th>Company</th>\n",
       "      <th>Education</th>\n",
       "      <th>Industry</th>\n",
       "      <th>Industry_label</th>\n",
       "      <th>Job_function</th>\n",
       "      <th>Job_title</th>\n",
       "      <th>Level</th>\n",
       "      <th>Location</th>\n",
       "      <th>Posting_date</th>\n",
       "      <th>Salary</th>\n",
       "      <th>Work_exp</th>\n",
       "    </tr>\n",
       "  </thead>\n",
       "  <tbody>\n",
       "    <tr>\n",
       "      <td>0</td>\n",
       "      <td>NaN</td>\n",
       "      <td>SIRIUS Partners Limited</td>\n",
       "      <td>Bachelor</td>\n",
       "      <td>All Banking / Finance / Securities</td>\n",
       "      <td>Banking / Finance / Securities / Investments</td>\n",
       "      <td>['IT (Network &amp; System)', 'IT (Systems / Techn...</td>\n",
       "      <td>UAT Tester- Top Financial Institution</td>\n",
       "      <td>Middle</td>\n",
       "      <td>NaN</td>\n",
       "      <td>Posting Date: 2020-09-10</td>\n",
       "      <td>--</td>\n",
       "      <td>2-5</td>\n",
       "    </tr>\n",
       "    <tr>\n",
       "      <td>1</td>\n",
       "      <td>['', 'Bank Holiday', '', 'Commission', '', 'Fi...</td>\n",
       "      <td>AIA International Limited</td>\n",
       "      <td>Bachelor</td>\n",
       "      <td>All Banking / Finance / Securities</td>\n",
       "      <td>Insurance</td>\n",
       "      <td>['Banking / Finance / Securities (Financial Se...</td>\n",
       "      <td>Wealth Management Manager財富管理經理精英招募（年薪可達80萬或以上...</td>\n",
       "      <td>General</td>\n",
       "      <td>Eastern District / North Point</td>\n",
       "      <td>Posting Date: 2020-09-10</td>\n",
       "      <td>--</td>\n",
       "      <td>--</td>\n",
       "    </tr>\n",
       "    <tr>\n",
       "      <td>2</td>\n",
       "      <td>['', 'Alternative Retirement Scheme', '', 'Bir...</td>\n",
       "      <td>Sun Life Hong Kong Limited</td>\n",
       "      <td>DSE</td>\n",
       "      <td>All Banking / Finance / Securities</td>\n",
       "      <td>Insurance</td>\n",
       "      <td>['Insurance (Insurance / Broker)', 'Fresh Grad...</td>\n",
       "      <td>Executive Business Manager / Management Trainee</td>\n",
       "      <td>General</td>\n",
       "      <td>Kowloon City District / Whampoa</td>\n",
       "      <td>Posting Date: 2020-09-10</td>\n",
       "      <td>$20,000 - $50,000</td>\n",
       "      <td>2-10</td>\n",
       "    </tr>\n",
       "    <tr>\n",
       "      <td>3</td>\n",
       "      <td>['', 'Five-Day Work', '', 'Medical Insurance',...</td>\n",
       "      <td>I-Access Group Limited</td>\n",
       "      <td>Bachelor</td>\n",
       "      <td>All Banking / Finance / Securities</td>\n",
       "      <td>Banking / Finance / Securities / Investments</td>\n",
       "      <td>['IT (Software / Web Developer)', 'Banking / F...</td>\n",
       "      <td>Programmer / Junior Programmer</td>\n",
       "      <td>General</td>\n",
       "      <td>Wanchai District / Causeway Bay</td>\n",
       "      <td>Posting Date: 2020-09-10</td>\n",
       "      <td>--</td>\n",
       "      <td>1</td>\n",
       "    </tr>\n",
       "    <tr>\n",
       "      <td>4</td>\n",
       "      <td>['', 'Five-Day Work']</td>\n",
       "      <td>Vegasoul Capital Management (Asia) Limited</td>\n",
       "      <td>Bachelor</td>\n",
       "      <td>All Banking / Finance / Securities</td>\n",
       "      <td>Trading</td>\n",
       "      <td>['Banking / Finance / Securities (Analysis)', ...</td>\n",
       "      <td>Quantitative Researcher - attractive salary!</td>\n",
       "      <td>General</td>\n",
       "      <td>NaN</td>\n",
       "      <td>Posting Date: 2020-09-10</td>\n",
       "      <td>--</td>\n",
       "      <td>3</td>\n",
       "    </tr>\n",
       "  </tbody>\n",
       "</table>\n",
       "</div>"
      ],
      "text/plain": [
       "                                            Benefits  \\\n",
       "0                                                NaN   \n",
       "1  ['', 'Bank Holiday', '', 'Commission', '', 'Fi...   \n",
       "2  ['', 'Alternative Retirement Scheme', '', 'Bir...   \n",
       "3  ['', 'Five-Day Work', '', 'Medical Insurance',...   \n",
       "4                              ['', 'Five-Day Work']   \n",
       "\n",
       "                                      Company Education  \\\n",
       "0                     SIRIUS Partners Limited  Bachelor   \n",
       "1                   AIA International Limited  Bachelor   \n",
       "2                  Sun Life Hong Kong Limited      DSE    \n",
       "3                      I-Access Group Limited  Bachelor   \n",
       "4  Vegasoul Capital Management (Asia) Limited  Bachelor   \n",
       "\n",
       "                             Industry  \\\n",
       "0  All Banking / Finance / Securities   \n",
       "1  All Banking / Finance / Securities   \n",
       "2  All Banking / Finance / Securities   \n",
       "3  All Banking / Finance / Securities   \n",
       "4  All Banking / Finance / Securities   \n",
       "\n",
       "                                 Industry_label  \\\n",
       "0  Banking / Finance / Securities / Investments   \n",
       "1                                     Insurance   \n",
       "2                                     Insurance   \n",
       "3  Banking / Finance / Securities / Investments   \n",
       "4                                       Trading   \n",
       "\n",
       "                                        Job_function  \\\n",
       "0  ['IT (Network & System)', 'IT (Systems / Techn...   \n",
       "1  ['Banking / Finance / Securities (Financial Se...   \n",
       "2  ['Insurance (Insurance / Broker)', 'Fresh Grad...   \n",
       "3  ['IT (Software / Web Developer)', 'Banking / F...   \n",
       "4  ['Banking / Finance / Securities (Analysis)', ...   \n",
       "\n",
       "                                           Job_title    Level  \\\n",
       "0              UAT Tester- Top Financial Institution   Middle   \n",
       "1  Wealth Management Manager財富管理經理精英招募（年薪可達80萬或以上...  General   \n",
       "2    Executive Business Manager / Management Trainee  General   \n",
       "3                     Programmer / Junior Programmer  General   \n",
       "4       Quantitative Researcher - attractive salary!  General   \n",
       "\n",
       "                          Location              Posting_date  \\\n",
       "0                              NaN  Posting Date: 2020-09-10   \n",
       "1   Eastern District / North Point  Posting Date: 2020-09-10   \n",
       "2  Kowloon City District / Whampoa  Posting Date: 2020-09-10   \n",
       "3  Wanchai District / Causeway Bay  Posting Date: 2020-09-10   \n",
       "4                              NaN  Posting Date: 2020-09-10   \n",
       "\n",
       "              Salary Work_exp  \n",
       "0                 --      2-5  \n",
       "1                 --       --  \n",
       "2  $20,000 - $50,000     2-10  \n",
       "3                 --        1  \n",
       "4                 --        3  "
      ]
     },
     "execution_count": 29,
     "metadata": {},
     "output_type": "execute_result"
    }
   ],
   "source": [
    "# First 5 rows of RecruitHK DF\n",
    "dfre.head()"
   ]
  },
  {
   "cell_type": "code",
   "execution_count": 30,
   "metadata": {},
   "outputs": [
    {
     "data": {
      "text/plain": [
       "(4963, 12)"
      ]
     },
     "execution_count": 30,
     "metadata": {},
     "output_type": "execute_result"
    }
   ],
   "source": [
    "# Drop duplicate rows with same job post\n",
    "dfre = dfre.drop_duplicates(keep='first')\n",
    "dfre.shape"
   ]
  },
  {
   "cell_type": "code",
   "execution_count": 31,
   "metadata": {},
   "outputs": [],
   "source": [
    "# Assign data source from RecruitHK before merging the data\n",
    "dfre['Source'] = \"Recruithk\""
   ]
  },
  {
   "cell_type": "code",
   "execution_count": 32,
   "metadata": {},
   "outputs": [],
   "source": [
    "# Standardize the Industry name for further analysis and merging two df\n",
    "dfre['Industry'] = dfre['Industry'].replace('All Marketing / Public Relations',\"Marketing\")\n",
    "dfre['Industry'] = dfre['Industry'].replace('All Engineering',\"Engineering\")\n",
    "dfre['Industry'] = dfre['Industry'].replace('All IT',\"IT\")\n",
    "dfre['Industry'] = dfre['Industry'].replace('All Education',\"Education\")\n",
    "dfre['Industry'] = dfre['Industry'].replace('All Banking / Finance / Securities',\"Banking / Finance\")\n",
    "dfre['Industry'] = dfre['Industry'].replace('All Hospitality / Hotel',\"Hospitality\")"
   ]
  },
  {
   "cell_type": "code",
   "execution_count": 33,
   "metadata": {},
   "outputs": [],
   "source": [
    "# Clean Posting Date data\n",
    "dfre['Posting_date'] = dfre['Posting_date'].str.replace('Posting Date: ','')"
   ]
  },
  {
   "cell_type": "code",
   "execution_count": 34,
   "metadata": {},
   "outputs": [],
   "source": [
    "# Convert posting date to datetime format\n",
    "dfre['Posting_date'] = pd.to_datetime(dfre['Posting_date'])"
   ]
  },
  {
   "cell_type": "code",
   "execution_count": 35,
   "metadata": {},
   "outputs": [],
   "source": [
    "# Select the date range we want to focus\n",
    "dfre = dfre[(dfre['Posting_date']>='2020-08-10') & (dfre['Posting_date']<='2020-09-05')]"
   ]
  },
  {
   "cell_type": "code",
   "execution_count": 36,
   "metadata": {},
   "outputs": [],
   "source": [
    "# Clean Level data and re-categorize \n",
    "dfre['Level'] = dfre['Level'].str.strip(\"\\n\\n\")\n",
    "dfre['Level'] = dfre['Level'].apply(lambda x : \"Entry\" if x == \"General\"\\\n",
    "                                else \"Middle\" if x == \"Middle\" else \"Senior\" if x\\\n",
    "                                == \"Senior\"else \"Senior\" if x == 'Top' else x)"
   ]
  },
  {
   "cell_type": "code",
   "execution_count": 37,
   "metadata": {},
   "outputs": [],
   "source": [
    "# No need to clean Industry_label, Job_function, Location, Education"
   ]
  },
  {
   "cell_type": "code",
   "execution_count": 38,
   "metadata": {},
   "outputs": [],
   "source": [
    "# Clean Benefits data and convert it to a list of benefits to analyze on correlation between jobs and no. of benefits\n",
    "dfre['Benefits'] = dfre.Benefits.str.replace(\"'',\" ,\"\")\n",
    "dfre['Benefits'] = dfre.Benefits.str.strip(\"[]\")\n",
    "dfre['Benefits'] = dfre.Benefits.str.replace(\"  \",\"\")\n",
    "dfre['Benefits'] = dfre['Benefits'].str.split(\",\")"
   ]
  },
  {
   "cell_type": "code",
   "execution_count": 39,
   "metadata": {},
   "outputs": [],
   "source": [
    "# Create a new column of Benefits_count to quantify it\n",
    "dfre['Benefits_count'] = dfre['Benefits'].str.len()"
   ]
  },
  {
   "cell_type": "code",
   "execution_count": 40,
   "metadata": {},
   "outputs": [],
   "source": [
    "# Clean Salary data and change them to float64, split it to Min_salary & Max_salary columns for further analysis\n",
    "dfre['Min_salary'] = dfre['Salary'].str.replace(',','').str.extract(r'\\D(\\d+\\d+).').astype(float)\n",
    "dfre['Max_salary'] = dfre['Salary'].str.replace(',','').str.extract(r'\\-\\s(\\d+\\d+)').astype(float)"
   ]
  },
  {
   "cell_type": "code",
   "execution_count": 41,
   "metadata": {},
   "outputs": [],
   "source": [
    "# Salary data in hours to approx. monthly pay case\n",
    "dfre['Min_salary'] = dfre['Min_salary'].apply(lambda x: x*8*20 if x < 500 else x)\n",
    "dfre['Max_salary'] = dfre['Max_salary'].apply(lambda x: x*8*20 if x < 500 else x)"
   ]
  },
  {
   "cell_type": "code",
   "execution_count": 42,
   "metadata": {},
   "outputs": [],
   "source": [
    "# Clean Work Exp data and change them to float64, split it to Min_workexp & Max_workexp columns for further analysis\n",
    "dfre['Min_workexp'] = dfre['Work_exp'].str.replace(',','').str.extract(r'^(\\d+)\\-*').astype(float)\n",
    "dfre['Max_workexp'] = dfre['Work_exp'].str.replace(',','').str.extract(r'\\-\\s*(\\d+)$').astype(float)"
   ]
  },
  {
   "cell_type": "code",
   "execution_count": 43,
   "metadata": {},
   "outputs": [],
   "source": [
    "# Create IT_Specialization column to assign True & False to count no. of jobs grouped under IT in each sector\n",
    "dfre['IT_Specialization'] = dfre['Job_function'].str.contains('IT',regex=False)"
   ]
  },
  {
   "cell_type": "code",
   "execution_count": 44,
   "metadata": {},
   "outputs": [],
   "source": [
    "# Analysis 3: Industry Overview\n",
    "# 3.3: Top 10 most popular job titles per sector\n",
    "# Cleaning job title data by regex and str.replace\n"
   ]
  },
  {
   "cell_type": "code",
   "execution_count": 45,
   "metadata": {},
   "outputs": [],
   "source": [
    "#### Merging two dfs into one single df ####"
   ]
  },
  {
   "cell_type": "code",
   "execution_count": 46,
   "metadata": {},
   "outputs": [],
   "source": [
    "newdf = pd.concat([dfre, dfct])"
   ]
  },
  {
   "cell_type": "code",
   "execution_count": 47,
   "metadata": {},
   "outputs": [],
   "source": [
    "#Replace CL Limited\n",
    "newdf['Company'] = newdf['Company'].replace('CL Technical Services Ltd',\"CL Technical Services Limited\")\n",
    "# Remove duplicat job title + company from two dfs\n",
    "newdf['companyjob'] = newdf['Company'].map(str) + newdf['Job_title'].map(str) \n",
    "nodupdf = newdf.drop_duplicates(subset=['companyjob','Industry','Level'], keep='first')\n",
    "# nodupdf.to_csv(\"nodupdf.csv\")"
   ]
  },
  {
   "cell_type": "code",
   "execution_count": 48,
   "metadata": {},
   "outputs": [
    {
     "data": {
      "text/plain": [
       "(12902, 21)"
      ]
     },
     "execution_count": 48,
     "metadata": {},
     "output_type": "execute_result"
    }
   ],
   "source": [
    "newdf['week'] = newdf['Posting_date'].dt.strftime('%W')\n",
    "weekdf = newdf.drop_duplicates(subset=['companyjob','Industry','Level','week'], keep='first')\n",
    "weekdf.shape"
   ]
  },
  {
   "cell_type": "code",
   "execution_count": 66,
   "metadata": {},
   "outputs": [
    {
     "data": {
      "text/plain": [
       "array(['Banking / Finance', 'Education', 'Engineering', 'Hospitality',\n",
       "       'IT', 'Marketing'], dtype=object)"
      ]
     },
     "execution_count": 66,
     "metadata": {},
     "output_type": "execute_result"
    }
   ],
   "source": [
    "nodupdf.Industry.unique()"
   ]
  },
  {
   "cell_type": "code",
   "execution_count": 49,
   "metadata": {},
   "outputs": [
    {
     "data": {
      "text/plain": [
       "Industry           IT_Specialization\n",
       "Banking / Finance  False                1710\n",
       "                   True                  168\n",
       "Education          False                 692\n",
       "                   True                   18\n",
       "Engineering        False                1664\n",
       "                   True                  240\n",
       "Hospitality        False                 821\n",
       "                   True                    7\n",
       "IT                 True                 2837\n",
       "Marketing          False                1123\n",
       "                   True                   95\n",
       "Name: IT_Specialization, dtype: int64"
      ]
     },
     "execution_count": 49,
     "metadata": {},
     "output_type": "execute_result"
    }
   ],
   "source": [
    "nodupdf.groupby('Industry')['IT_Specialization'].value_counts()"
   ]
  },
  {
   "cell_type": "code",
   "execution_count": 62,
   "metadata": {},
   "outputs": [
    {
     "data": {
      "text/plain": [
       "(9375, 20)"
      ]
     },
     "execution_count": 62,
     "metadata": {},
     "output_type": "execute_result"
    }
   ],
   "source": [
    "nodupdf.shape"
   ]
  },
  {
   "cell_type": "code",
   "execution_count": 51,
   "metadata": {},
   "outputs": [],
   "source": [
    "#### Analysis & Plotting ####"
   ]
  },
  {
   "cell_type": "code",
   "execution_count": 52,
   "metadata": {},
   "outputs": [
    {
     "data": {
      "text/html": [
       "<div>\n",
       "<style scoped>\n",
       "    .dataframe tbody tr th:only-of-type {\n",
       "        vertical-align: middle;\n",
       "    }\n",
       "\n",
       "    .dataframe tbody tr th {\n",
       "        vertical-align: top;\n",
       "    }\n",
       "\n",
       "    .dataframe thead th {\n",
       "        text-align: right;\n",
       "    }\n",
       "</style>\n",
       "<table border=\"1\" class=\"dataframe\">\n",
       "  <thead>\n",
       "    <tr style=\"text-align: right;\">\n",
       "      <th></th>\n",
       "      <th>4</th>\n",
       "      <th>2</th>\n",
       "      <th>0</th>\n",
       "      <th>5</th>\n",
       "      <th>3</th>\n",
       "      <th>1</th>\n",
       "    </tr>\n",
       "  </thead>\n",
       "  <tbody>\n",
       "    <tr>\n",
       "      <td>Industry</td>\n",
       "      <td>IT</td>\n",
       "      <td>Engineering</td>\n",
       "      <td>Banking / Finance</td>\n",
       "      <td>Marketing</td>\n",
       "      <td>Hospitality</td>\n",
       "      <td>Education</td>\n",
       "    </tr>\n",
       "    <tr>\n",
       "      <td>total_job_opening</td>\n",
       "      <td>2837</td>\n",
       "      <td>1904</td>\n",
       "      <td>1878</td>\n",
       "      <td>1218</td>\n",
       "      <td>828</td>\n",
       "      <td>710</td>\n",
       "    </tr>\n",
       "    <tr>\n",
       "      <td>%</td>\n",
       "      <td>30.26</td>\n",
       "      <td>20.31</td>\n",
       "      <td>20.03</td>\n",
       "      <td>12.99</td>\n",
       "      <td>8.83</td>\n",
       "      <td>7.57</td>\n",
       "    </tr>\n",
       "  </tbody>\n",
       "</table>\n",
       "</div>"
      ],
      "text/plain": [
       "                       4            2                  0          5  \\\n",
       "Industry              IT  Engineering  Banking / Finance  Marketing   \n",
       "total_job_opening   2837         1904               1878       1218   \n",
       "%                  30.26        20.31              20.03      12.99   \n",
       "\n",
       "                             3          1  \n",
       "Industry           Hospitality  Education  \n",
       "total_job_opening          828        710  \n",
       "%                         8.83       7.57  "
      ]
     },
     "execution_count": 52,
     "metadata": {},
     "output_type": "execute_result"
    }
   ],
   "source": [
    "# Analysis 1: Total number of job post comparison among industry\n",
    "#for ploting stack\n",
    "indcountdf = nodupdf.groupby(['Industry'])['Job_title'].count()\n",
    "indcountdf = indcountdf.reset_index()\n",
    "indcountdf.columns=['Industry','total_job_opening']\n",
    "indcountdf['Period']='4weeks'\n",
    "pivot_df = indcountdf.pivot(index='Period', columns='Industry', values='total_job_opening')\n",
    "\n",
    "#for data graph\n",
    "indcountdf['%']=indcountdf['total_job_opening'].apply(lambda x:round(x/indcountdf['total_job_opening'].sum()*100,2))\n",
    "indcountdf[['Industry','total_job_opening','%']].sort_values('%',ascending=False).transpose().to_csv('data/total_industry.csv',index='False')\n",
    "indcountdf[['Industry','total_job_opening','%']].sort_values('%',ascending=False).transpose()\n",
    "\n"
   ]
  },
  {
   "cell_type": "code",
   "execution_count": 53,
   "metadata": {},
   "outputs": [
    {
     "data": {
      "image/png": "[encoded data removed]",
      "text/plain": [
       "<Figure size 1368x216 with 1 Axes>"
      ]
     },
     "metadata": {},
     "output_type": "display_data"
    }
   ],
   "source": [
    "# newdf.groupby(['Industry'])['Job_title'].count().transpose()\n",
    "orderli = list(nodupdf['Industry'].value_counts().index)\n",
    "gph = pivot_df.loc[:,orderli].plot(kind='barh',stacked=True,figsize=(19,3), cmap=\"RdGy\",title='Total number of job posting in 4 weeks')\n",
    "plt.legend(loc='upper center',fontsize='small', ncol = 6)\n",
    "xticks = range(0, 10000, 1000)"
   ]
  },
  {
   "cell_type": "code",
   "execution_count": 54,
   "metadata": {},
   "outputs": [
    {
     "data": {
      "image/png": "[encoded data removed]",
      "text/plain": [
       "<Figure size 972x360 with 6 Axes>"
      ]
     },
     "metadata": {},
     "output_type": "display_data"
    }
   ],
   "source": [
    "# Analysis 2: Week on Week Job Counts\n",
    "#usinf newdf instead of nodup df to get active job posting at that time\n",
    "\n",
    "\n",
    "ax = sns.catplot(x=\"week\", col=\"Industry\", \n",
    "                data=weekdf, kind=\"count\",\n",
    "                aspect=.45, palette=sns.color_palette(\"rocket_r\"),\n",
    "                col_order = newdf['Industry'].value_counts().index)\n",
    "ax.set_axis_labels(\"Week\", \"Job Title Counts\")\n",
    "plt.show(ax)"
   ]
  },
  {
   "cell_type": "code",
   "execution_count": 55,
   "metadata": {},
   "outputs": [
    {
     "data": {
      "text/html": [
       "<div>\n",
       "<style scoped>\n",
       "    .dataframe tbody tr th:only-of-type {\n",
       "        vertical-align: middle;\n",
       "    }\n",
       "\n",
       "    .dataframe tbody tr th {\n",
       "        vertical-align: top;\n",
       "    }\n",
       "\n",
       "    .dataframe thead th {\n",
       "        text-align: right;\n",
       "    }\n",
       "</style>\n",
       "<table border=\"1\" class=\"dataframe\">\n",
       "  <thead>\n",
       "    <tr style=\"text-align: right;\">\n",
       "      <th></th>\n",
       "      <th></th>\n",
       "      <th>Company</th>\n",
       "    </tr>\n",
       "    <tr>\n",
       "      <th>Industry</th>\n",
       "      <th>Company</th>\n",
       "      <th></th>\n",
       "    </tr>\n",
       "  </thead>\n",
       "  <tbody>\n",
       "    <tr>\n",
       "      <td rowspan=\"5\" valign=\"top\">Banking / Finance</td>\n",
       "      <td>Morgan McKinley</td>\n",
       "      <td>59</td>\n",
       "    </tr>\n",
       "    <tr>\n",
       "      <td>Bank of China (Hong Kong) Limited</td>\n",
       "      <td>49</td>\n",
       "    </tr>\n",
       "    <tr>\n",
       "      <td>RecruitFirst Limited</td>\n",
       "      <td>49</td>\n",
       "    </tr>\n",
       "    <tr>\n",
       "      <td>Bank of Communications Co., Ltd. Hong Kong Branch</td>\n",
       "      <td>44</td>\n",
       "    </tr>\n",
       "    <tr>\n",
       "      <td>JPMorgan Chase Bank, N.A.</td>\n",
       "      <td>44</td>\n",
       "    </tr>\n",
       "    <tr>\n",
       "      <td rowspan=\"5\" valign=\"top\">Education</td>\n",
       "      <td>小豆苗教育中心</td>\n",
       "      <td>36</td>\n",
       "    </tr>\n",
       "    <tr>\n",
       "      <td>The Education University of Hong Kong</td>\n",
       "      <td>34</td>\n",
       "    </tr>\n",
       "    <tr>\n",
       "      <td>童行社</td>\n",
       "      <td>18</td>\n",
       "    </tr>\n",
       "    <tr>\n",
       "      <td>Creative Thinking Associaton</td>\n",
       "      <td>17</td>\n",
       "    </tr>\n",
       "    <tr>\n",
       "      <td>勵致研習中心</td>\n",
       "      <td>10</td>\n",
       "    </tr>\n",
       "    <tr>\n",
       "      <td rowspan=\"5\" valign=\"top\">Engineering</td>\n",
       "      <td>Hong Kong Applied Science and Technology Research Institute Company Limited (ASTRI)</td>\n",
       "      <td>49</td>\n",
       "    </tr>\n",
       "    <tr>\n",
       "      <td>Build King Holdings Ltd</td>\n",
       "      <td>40</td>\n",
       "    </tr>\n",
       "    <tr>\n",
       "      <td>Black &amp; Veatch</td>\n",
       "      <td>37</td>\n",
       "    </tr>\n",
       "    <tr>\n",
       "      <td>PCCW Solutions Ltd</td>\n",
       "      <td>34</td>\n",
       "    </tr>\n",
       "    <tr>\n",
       "      <td>Hip Hing Construction Co Ltd</td>\n",
       "      <td>30</td>\n",
       "    </tr>\n",
       "    <tr>\n",
       "      <td rowspan=\"5\" valign=\"top\">Hospitality</td>\n",
       "      <td>亞洲國際餐飲集團有限公司 Taste of Asia Group Limited</td>\n",
       "      <td>38</td>\n",
       "    </tr>\n",
       "    <tr>\n",
       "      <td>Sheraton &amp; Four Points by Sheraton Hong Kong Tung Chung</td>\n",
       "      <td>26</td>\n",
       "    </tr>\n",
       "    <tr>\n",
       "      <td>Rosewood Hong Kong</td>\n",
       "      <td>11</td>\n",
       "    </tr>\n",
       "    <tr>\n",
       "      <td>Harbour Grand (H.K.) Resources Limited</td>\n",
       "      <td>10</td>\n",
       "    </tr>\n",
       "    <tr>\n",
       "      <td>Hyatt Centric Victoria Harbour Hong Kong</td>\n",
       "      <td>10</td>\n",
       "    </tr>\n",
       "    <tr>\n",
       "      <td rowspan=\"5\" valign=\"top\">IT</td>\n",
       "      <td>CL Technical Services Limited</td>\n",
       "      <td>166</td>\n",
       "    </tr>\n",
       "    <tr>\n",
       "      <td>PCCW Solutions Ltd</td>\n",
       "      <td>87</td>\n",
       "    </tr>\n",
       "    <tr>\n",
       "      <td>RecruitFirst Limited</td>\n",
       "      <td>49</td>\n",
       "    </tr>\n",
       "    <tr>\n",
       "      <td>PeopleLink Services Limited</td>\n",
       "      <td>44</td>\n",
       "    </tr>\n",
       "    <tr>\n",
       "      <td>Hong Kong Applied Science and Technology Research Institute Company Limited (ASTRI)</td>\n",
       "      <td>43</td>\n",
       "    </tr>\n",
       "    <tr>\n",
       "      <td rowspan=\"5\" valign=\"top\">Marketing</td>\n",
       "      <td>Michael Page</td>\n",
       "      <td>17</td>\n",
       "    </tr>\n",
       "    <tr>\n",
       "      <td>Ambitious People</td>\n",
       "      <td>13</td>\n",
       "    </tr>\n",
       "    <tr>\n",
       "      <td>RecruitFirst Limited</td>\n",
       "      <td>12</td>\n",
       "    </tr>\n",
       "    <tr>\n",
       "      <td>YesStyle.com Ltd</td>\n",
       "      <td>12</td>\n",
       "    </tr>\n",
       "    <tr>\n",
       "      <td>AIA International Limited</td>\n",
       "      <td>10</td>\n",
       "    </tr>\n",
       "  </tbody>\n",
       "</table>\n",
       "</div>"
      ],
      "text/plain": [
       "                                                                      Company\n",
       "Industry          Company                                                    \n",
       "Banking / Finance Morgan McKinley                                          59\n",
       "                  Bank of China (Hong Kong) Limited                        49\n",
       "                  RecruitFirst Limited                                     49\n",
       "                  Bank of Communications Co., Ltd. Hong Kong Branch        44\n",
       "                  JPMorgan Chase Bank, N.A.                                44\n",
       "Education         小豆苗教育中心                                                  36\n",
       "                  The Education University of Hong Kong                    34\n",
       "                  童行社                                                      18\n",
       "                  Creative Thinking Associaton                             17\n",
       "                  勵致研習中心                                                   10\n",
       "Engineering       Hong Kong Applied Science and Technology Resear...       49\n",
       "                  Build King Holdings Ltd                                  40\n",
       "                  Black & Veatch                                           37\n",
       "                  PCCW Solutions Ltd                                       34\n",
       "                  Hip Hing Construction Co Ltd                             30\n",
       "Hospitality       亞洲國際餐飲集團有限公司 Taste of Asia Group Limited                 38\n",
       "                  Sheraton & Four Points by Sheraton Hong Kong Tu...       26\n",
       "                  Rosewood Hong Kong                                       11\n",
       "                  Harbour Grand (H.K.) Resources Limited                   10\n",
       "                  Hyatt Centric Victoria Harbour Hong Kong                 10\n",
       "IT                CL Technical Services Limited                           166\n",
       "                  PCCW Solutions Ltd                                       87\n",
       "                  RecruitFirst Limited                                     49\n",
       "                  PeopleLink Services Limited                              44\n",
       "                  Hong Kong Applied Science and Technology Resear...       43\n",
       "Marketing         Michael Page                                             17\n",
       "                  Ambitious People                                         13\n",
       "                  RecruitFirst Limited                                     12\n",
       "                  YesStyle.com Ltd                                         12\n",
       "                  AIA International Limited                                10"
      ]
     },
     "execution_count": 55,
     "metadata": {},
     "output_type": "execute_result"
    }
   ],
   "source": [
    "# Analysis 3: Industry Overview\n",
    "# 3.1: Getting top 5 companies with most job posts per sector\n",
    "nodupdf.groupby('Industry')['Company'].value_counts().groupby(level=[0]).head(5).to_frame()\n",
    "\n",
    "# # Plotting graphs\n",
    "# x1 = x.reset_index(name='count')\n",
    "# import matplotlib as mpl\n",
    "# mpl.rcParams['font.sans-serif'] = ['SimHei']\n",
    "# mpl.rcParams['font.serif'] = ['SimHei']\n",
    "# import seaborn as sns\n",
    "# sns.set_style(\"darkgrid\",{\"font.sans-serif\":['simhei', 'Arial']})\n",
    "# sns.barplot(data=x1, x='count', y=\"Industry\")\n"
   ]
  },
  {
   "cell_type": "code",
   "execution_count": 56,
   "metadata": {},
   "outputs": [
    {
     "data": {
      "image/png": "[encoded data removed]",
      "text/plain": [
       "<Figure size 847.6x720 with 1 Axes>"
      ]
     },
     "metadata": {},
     "output_type": "display_data"
    }
   ],
   "source": [
    "# Analysis 3: Industry Overview\n",
    "# 3.2: Difference in benefit counts across levels and across industries\n",
    "# Could vary by poster, however IT industry appears to receive average/lower average in benefit counts\n",
    "# Hospitality > Banking/Finance > Engineering > Marketing = IT > Education\n",
    "# Might be a correlation between the pseudo-demand and overall package\n",
    "p = sns.catplot(x=\"Level\", y=\"Benefits_count\", hue=\"Industry\",\n",
    "            palette=\"viridis\",\n",
    "            kind=\"box\", data=nodupdf, height=10)\n",
    "p.fig.suptitle(\"Boxplot of No. of Benefits & Job Level Related to Industry\")\n",
    "plt.subplots_adjust(top=0.9)\n",
    "plt.xlabel(\"Job Level\")\n",
    "plt.ylabel(\"No. of Benefits\")\n",
    "plt.show()"
   ]
  },
  {
   "cell_type": "code",
   "execution_count": 57,
   "metadata": {},
   "outputs": [],
   "source": [
    "# Analysis 3: Industry Overview\n",
    "# 3.3: Top 10 most popular job titles per sector\n",
    "# Cleaning job title data by regex and str.replace\n",
    "\n",
    "\n",
    "# Top 10 most popular jobs\n",
    "# Engineering - Not many insights\n",
    "top10engineering = nodupdf.query('Industry == \"Engineering\"').groupby('Job_title').count().sort_values\\\n",
    "('IT_Specialization',ascending=False)['IT_Specialization'].to_frame().head(10)\n",
    "\n",
    "# Marketing - Some Digital Marketing and EComm roles\n",
    "top10marketing = nodupdf.query('Industry == \"Marketing\"').groupby('Job_title').count().sort_values\\\n",
    "('IT_Specialization',ascending=False)['IT_Specialization'].to_frame().head(10)\n",
    "\n",
    "# IT - Majority is still dominated by developer and software engineers, BA and more specialized ones rank bottom\n",
    "top10IT = nodupdf.query('Industry == \"IT\"').groupby('Job_title').count().sort_values\\\n",
    "('IT_Specialization',ascending=False)['IT_Specialization'].to_frame().head(10)\n",
    "\n",
    "# Banking/Finance - Specific IT track for FinTech/Banking environment\n",
    "top10finance = nodupdf.query('Industry == \"Banking / Finance\"').groupby('Job_title').count().sort_values\\\n",
    "('IT_Specialization',ascending=False)['IT_Specialization'].to_frame().head(10)\n",
    "\n",
    "# Education - Online Devleopment Specialist --> online learning platforms\n",
    "top10education = nodupdf.query('Industry == \"Education\"').groupby('Job_title').count().sort_values\\\n",
    "('IT_Specialization',ascending=False)['IT_Specialization'].to_frame().head(10)\n",
    "\n",
    "# Hospitality - Not many insights\n",
    "top10hospitality = nodupdf.query('Industry == \"Hospitality\"').groupby('Job_title').count().sort_values\\\n",
    "('IT_Specialization',ascending=False)['IT_Specialization'].to_frame().head(10)\n",
    "\n",
    "\n",
    "# Barplot of top 10 most popular jobs\n",
    "# plot.bar(subplots=True)\n"
   ]
  },
  {
   "cell_type": "code",
   "execution_count": 58,
   "metadata": {
    "tags": []
   },
   "outputs": [
    {
     "name": "stdout",
     "output_type": "stream",
     "text": [
      "IT_Specialization      False       True \n",
      "Industry                                \n",
      "Banking / Finance  91.054313    8.945687\n",
      "Education          97.464789    2.535211\n",
      "Engineering        87.394958   12.605042\n",
      "Hospitality        99.154589    0.845411\n",
      "IT                       NaN  100.000000\n",
      "Marketing          92.200328    7.799672\n"
     ]
    },
    {
     "name": "stderr",
     "output_type": "stream",
     "text": [
      "/Users/mankan/opt/anaconda3/lib/python3.7/site-packages/pandas/plotting/_matplotlib/style.py:60: MatplotlibDeprecationWarning: Support for uppercase single-letter colors is deprecated since Matplotlib 3.1 and will be removed in 3.3; please use lowercase instead.\n",
      "  [conv.to_rgba(c) for c in colors]\n"
     ]
    },
    {
     "data": {
      "text/plain": [
       "<matplotlib.axes._subplots.AxesSubplot at 0x7fcbd12c6690>"
      ]
     },
     "execution_count": 58,
     "metadata": {},
     "output_type": "execute_result"
    },
    {
     "data": {
      "image/png": "[encoded data removed]",
      "text/plain": [
       "<Figure size 1008x360 with 1 Axes>"
      ]
     },
     "metadata": {},
     "output_type": "display_data"
    },
    {
     "data": {
      "image/png": "[encoded data removed]",
      "text/plain": [
       "<Figure size 1008x360 with 1 Axes>"
      ]
     },
     "metadata": {},
     "output_type": "display_data"
    },
    {
     "data": {
      "image/png": "[encoded data removed]",
      "text/plain": [
       "<Figure size 1008x360 with 1 Axes>"
      ]
     },
     "metadata": {},
     "output_type": "display_data"
    },
    {
     "data": {
      "image/png": "[encoded data removed]",
      "text/plain": [
       "<Figure size 1008x360 with 1 Axes>"
      ]
     },
     "metadata": {},
     "output_type": "display_data"
    },
    {
     "data": {
      "image/png": "[encoded data removed]",
      "text/plain": [
       "<Figure size 1008x360 with 1 Axes>"
      ]
     },
     "metadata": {},
     "output_type": "display_data"
    },
    {
     "data": {
      "image/png": "[encoded data removed]",
      "text/plain": [
       "<Figure size 1008x360 with 1 Axes>"
      ]
     },
     "metadata": {},
     "output_type": "display_data"
    }
   ],
   "source": [
    "# Analysis 4: IT vs Non-IT specialization in each sector\n",
    "# Calculate the proportion of jobs requiring IT skills\n",
    "nodupdfitpercent = nodupdf.groupby('Industry')['IT_Specialization'].value_counts(normalize=True).unstack().apply(lambda x: x*100)\n",
    "print(nodupdfitpercent)\n",
    "\n",
    "# Pie chart of IT% of each sector\n",
    "nodupdfitpercent.query('Industry==\"Engineering\"').T.plot.pie(y=\"Engineering\",figsize=(14,5), colors=\"Greys\",autopct='%1.2f%%',legend=True, radius=.8)\n",
    "nodupdfitpercent.query('Industry==\"Marketing\"').T.plot.pie(y=\"Marketing\",figsize=(14,5), colors=\"Greys\",autopct='%1.2f%%',legend=True, radius=.8)\n",
    "nodupdfitpercent.query('Industry==\"IT\"').T.plot.pie(y=\"IT\",figsize=(14,5), colors=\"Greys\",autopct='%1.2f%%',legend=True, radius=.8)\n",
    "nodupdfitpercent.query('Industry==\"Hospitality\"').T.plot.pie(y=\"Hospitality\",figsize=(14,5), colors=\"Greys\",autopct='%1.2f%%',legend=True, radius=.8)\n",
    "nodupdfitpercent.query('Industry==\"Banking / Finance\"').T.plot.pie(y=\"Banking / Finance\",colors=\"Greys\",figsize=(14,5), autopct='%1.2f%%',legend=True, radius=.8)\n",
    "nodupdfitpercent.query('Industry==\"Education\"').T.plot.pie(y=\"Education\",figsize=(14,5),colors=\"Greys\", autopct='%1.2f%%',legend=True, radius=.8)\n",
    "\n",
    "\n",
    "# Taking IT vs Non-IT Specification as the layer for further analysis on salary"
   ]
  },
  {
   "cell_type": "code",
   "execution_count": 59,
   "metadata": {},
   "outputs": [
    {
     "data": {
      "image/png": "[encoded data removed]",
      "text/plain": [
       "<Figure size 1584x1008 with 1 Axes>"
      ]
     },
     "metadata": {},
     "output_type": "display_data"
    }
   ],
   "source": [
    "# Analysis 4: IT vs Non-IT specialization in each sector\n",
    "\n",
    "# Barplot of IT% across all sectors - using IT specification to spot out any difference in min salary (Insignificant)\n",
    "a = sns.barplot(data=nodupdf,x=\"Industry\",y='Min_salary',hue='IT_Specialization',palette='GnBu_d')\n",
    "\n"
   ]
  },
  {
   "cell_type": "code",
   "execution_count": 60,
   "metadata": {},
   "outputs": [
    {
     "data": {
      "image/png": "[encoded data removed]",
      "text/plain": [
       "<Figure size 1584x1008 with 1 Axes>"
      ]
     },
     "metadata": {},
     "output_type": "display_data"
    }
   ],
   "source": [
    "# Analysis 4: IT vs Non-IT specialization in each sector\n",
    "\n",
    "# Barplot of IT% across all sectors - using IT specification to spot out any difference in Benefit counts\n",
    "b = sns.barplot(data=nodupdf,x=\"Industry\",y='Benefits_count',hue='IT_Specialization',palette='GnBu_d')\n"
   ]
  },
  {
   "cell_type": "code",
   "execution_count": 61,
   "metadata": {},
   "outputs": [
    {
     "ename": "AttributeError",
     "evalue": "module 'seaborn' has no attribute 'displot'",
     "output_type": "error",
     "traceback": [
      "\u001b[0;31m---------------------------------------------------------------------------\u001b[0m",
      "\u001b[0;31mAttributeError\u001b[0m                            Traceback (most recent call last)",
      "\u001b[0;32m<ipython-input-61-874f9c31dce9>\u001b[0m in \u001b[0;36m<module>\u001b[0;34m\u001b[0m\n\u001b[1;32m      2\u001b[0m \u001b[0;34m\u001b[0m\u001b[0m\n\u001b[1;32m      3\u001b[0m \u001b[0;31m# 5.1 Salary Displot Distribution of Industry: Strong from IT and Banking/Finance\u001b[0m\u001b[0;34m\u001b[0m\u001b[0;34m\u001b[0m\u001b[0;34m\u001b[0m\u001b[0m\n\u001b[0;32m----> 4\u001b[0;31m sns.displot(data=nodupdf, x=\"Min_salary\", y=\"Max_salary\",hue='Industry',kind='kde',height=10, \n\u001b[0m\u001b[1;32m      5\u001b[0m     aspect=1.5).set(title='Salary Distribtion of Industry')\n\u001b[1;32m      6\u001b[0m \u001b[0mplt\u001b[0m\u001b[0;34m.\u001b[0m\u001b[0mxlabel\u001b[0m\u001b[0;34m(\u001b[0m\u001b[0;34m\"Min Salary (HK$)\"\u001b[0m\u001b[0;34m)\u001b[0m\u001b[0;34m\u001b[0m\u001b[0;34m\u001b[0m\u001b[0m\n",
      "\u001b[0;31mAttributeError\u001b[0m: module 'seaborn' has no attribute 'displot'"
     ]
    }
   ],
   "source": [
    "# Analysis 5: Salary\n",
    "\n",
    "# 5.1 Salary Displot Distribution of Industry: Strong from IT and Banking/Finance\n",
    "sns.displot(data=nodupdf, x=\"Min_salary\", y=\"Max_salary\",hue='Industry',kind='kde',height=10, \n",
    "    aspect=1.5).set(title='Salary Distribtion of Industry')\n",
    "plt.xlabel(\"Min Salary (HK$)\")\n",
    "plt.ylabel(\"Max Salary (HK$)\")\n",
    "plt.show()"
   ]
  },
  {
   "cell_type": "code",
   "execution_count": null,
   "metadata": {},
   "outputs": [],
   "source": [
    "# 5.2 Salary Boxplot to show Salary Distribution of Level with IT vs Non-IT specialized roles: \n",
    "# IT shows all with higher means\n",
    "h = sns.catplot(x=\"Level\", y=\"Max_salary\", hue=\"IT_Specialization\", \\\n",
    "            kind=\"box\", data=nodupdf, height=10, palette=\"viridis\")\n",
    "h.fig.suptitle(\"Boxplot of Max Salary & Level Related to IT Specialization\")\n",
    "plt.subplots_adjust(top=0.9)\n",
    "plt.xlabel(\"Job Level\")\n",
    "plt.ylabel(\"Max Salary (HK$)\")\n",
    "plt.show()"
   ]
  },
  {
   "cell_type": "code",
   "execution_count": null,
   "metadata": {},
   "outputs": [],
   "source": [
    "# 5.3 Salary Boxplot to show Salary Distribution among Industry with IT vs Non-IT specialized roles: \n",
    "# Some domains do not align with IT with higher pay, Finance/Banking is strong in this. \n",
    "# Could be biased by job platform itself\n",
    "e = sns.catplot(x=\"Industry\", y=\"Max_salary\", hue=\"IT_Specialization\", \\\n",
    "            kind=\"box\", data=nodupdf, height=10, palette='viridis')\n",
    "e.fig.suptitle(\"Boxplot of Max Salary & Industry Related to IT Specialization\")\n",
    "plt.subplots_adjust(top=0.9)\n",
    "plt.xlabel(\"Industry\")\n",
    "plt.ylabel(\"Max Salary (HK$)\")\n",
    "plt.show()"
   ]
  },
  {
   "cell_type": "code",
   "execution_count": null,
   "metadata": {},
   "outputs": [],
   "source": [
    "# 5.4 Jointplot to show willingness of companies to offer against jobs' level\n",
    "# In general, all industries share similar density and peak in low exp years yet IT does have a higher pay amount\n",
    "# where it peaks, with slightly lesser years of exp\n",
    "# Some IT jobs are in outlier range where it appears to have higher pay compared to other professionals like Engineering\n",
    "sns.set_theme(style=\"ticks\")\n",
    "\n",
    "o = sns.jointplot(data=nodupdf, x=\"Min_workexp\", y=\"Max_salary\",hue='Industry',kind='kde',height=10)\n",
    "o.fig.suptitle(\"Relationship between Min Work Exp & Max Salary Related to Industry\")\n",
    "plt.subplots_adjust(top=0.9)\n",
    "o.set_axis_labels(\"Min Work Exp (Year)\", \"Max Salary (HK$)\")\n",
    "plt.show()"
   ]
  },
  {
   "cell_type": "code",
   "execution_count": null,
   "metadata": {},
   "outputs": [],
   "source": [
    "# 5.5 Regression plot to study the strength of correlation between years of exp and max salary\n",
    "# This shows the pay rise potential and proportionality of pay in each sector. How much each industry values their talents.\n",
    "\n",
    "# It shows the best available fit for the trend of the max salary usually companies give with respect to the \n",
    "# max years of exp that one possesses. And the data points that we see at extreme top right which are far away from \n",
    "# this line are known as outliers in the dataset.\n",
    "\n",
    "# Finance industry are in general more generous in the beginning stage, while marketing and IT industry shows higher\n",
    "# growth cap. \n",
    "\n",
    "\n",
    "r = sns.lmplot(x=\"Max_workexp\", y=\"Max_salary\", hue=\"Industry\",data=nodupdf, height=8, aspect=1.5, palette=\"Set1\")\n",
    "r.fig.suptitle(\"Relationship between Max Work Exp & Max Salary Related to Industry\")\n",
    "plt.subplots_adjust(top=0.9)\n",
    "plt.xlabel(\"Max Work Exp (Year)\")\n",
    "plt.ylabel(\"Max Salary (HK$)\")\n",
    "plt.show()"
   ]
  },
  {
   "cell_type": "code",
   "execution_count": null,
   "metadata": {},
   "outputs": [],
   "source": [
    "# 5.6 Regression plots to study the advantage of IT specialized skills considering years of exp vs max salary\n",
    "# This shows the pay rise potential and proportionality of pay in each sector if the job requires IT skills.\n",
    "\n",
    "# Banking/Finance, Engineering and Marketing shows quite substantial results in valuing IT specficalized skills,\n",
    "# with greater slope and starting salary point. \n",
    "\n",
    "g = sns.lmplot(x=\"Max_workexp\", y=\"Max_salary\", hue=\"IT_Specialization\", col='Industry',\\\n",
    "           data=nodupdf, height=8, aspect=.5, palette=\"Set2\",col_wrap=3)\n",
    "\n",
    "g.fig.suptitle(\"Relationship of Max Work Experience & Max Salary Related to IT Specialization\")\n",
    "plt.subplots_adjust(top=0.9)\n",
    "g.set_axis_labels(\"Max Work Exp (Year)\", \"Max Salary (HK$)\")\n",
    "plt.show()"
   ]
  },
  {
   "cell_type": "code",
   "execution_count": null,
   "metadata": {
    "tags": []
   },
   "outputs": [],
   "source": [
    "# 5.7 Displot to study the pay difference distribution of Data-related vs. Non-Data-related jobs in IT industry\n",
    "\n",
    "# To create a new column \"Data_or_NonData\" to categorize IT jobs, carefulling picking related keywords in job title\n",
    "nodupdf['Data_or_NonData'] = nodupdf.Job_title.str.contains('Data|data|Business Analyst|Machine Learning|AI|Computer Vision')\n",
    "dfit = nodupdf.query('Industry==\"IT\"')\n",
    "\n",
    "# Getting Max salary using describe()\n",
    "print(dfit.groupby('Data_or_NonData').describe().Max_salary)\n",
    "\n",
    "\n",
    "# Data-related IT jobs have a higher density in HK$20K range while non-data-related IT jobs have a lower mean for\n",
    "# lower level. Colour bar shows the density of jobs in the plot region. \n",
    "# As the level increases, non-data-related IT jobs receive greater pay. In general, data-related jobs still receive\n",
    "# higher mean in pay.\n",
    "sns.displot(data=nodupdf.query('Industry==\"IT\"'), x=\"Min_salary\", y=\"Max_salary\",hue='Data_or_NonData',\\\n",
    "            height=10, aspect=1.5,cbar=True,palette=\"Set1\").set(title='Pay Difference Distribution of Data-related\\\n",
    "            vs. Non-Data-related jobs in IT industry')\n",
    "plt.xlabel(\"Min Salary (HK$)\")\n",
    "plt.ylabel(\"Max Salary (HK$)\")\n",
    "plt.show()"
   ]
  },
  {
   "cell_type": "code",
   "execution_count": null,
   "metadata": {},
   "outputs": [],
   "source": [
    "# Analysis 6: Semantic Analysis in IT Industry(optional)\n",
    "# Most occurred keywords to show most popular hard-skills and soft-skills in IT industry\n",
    "\n",
    "from collections import Counter\n",
    "Counter(\" \".join(nodupdf.query('Industry==\"IT\"')['Job_title'].values.tolist()).split(\" \")).most_common(180)"
   ]
  }
 ],
 "metadata": {
  "kernelspec": {
   "display_name": "Python 3",
   "language": "python",
   "name": "python3"
  },
  "language_info": {
   "codemirror_mode": {
    "name": "ipython",
    "version": 3
   },
   "file_extension": ".py",
   "mimetype": "text/x-python",
   "name": "python",
   "nbconvert_exporter": "python",
   "pygments_lexer": "ipython3",
   "version": "3.7.4"
  }
 },
 "nbformat": 4,
 "nbformat_minor": 2
}